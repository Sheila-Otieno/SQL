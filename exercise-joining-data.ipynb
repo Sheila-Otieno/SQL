{
 "cells": [
  {
   "cell_type": "markdown",
   "id": "a8d2738d",
   "metadata": {
    "papermill": {
     "duration": 0.022832,
     "end_time": "2021-12-29T15:13:26.993524",
     "exception": false,
     "start_time": "2021-12-29T15:13:26.970692",
     "status": "completed"
    },
    "tags": []
   },
   "source": [
    "**This notebook is an exercise in the [SQL](https://www.kaggle.com/learn/intro-to-sql) course.  You can reference the tutorial at [this link](https://www.kaggle.com/dansbecker/joining-data).**\n",
    "\n",
    "---\n"
   ]
  },
  {
   "cell_type": "markdown",
   "id": "6b00f4f3",
   "metadata": {
    "papermill": {
     "duration": 0.019897,
     "end_time": "2021-12-29T15:13:27.034558",
     "exception": false,
     "start_time": "2021-12-29T15:13:27.014661",
     "status": "completed"
    },
    "tags": []
   },
   "source": [
    "# Introduction\n",
    "\n",
    "[Stack Overflow](https://stackoverflow.com/) is a widely beloved question and answer site for technical questions. You'll probably use it yourself as you keep using SQL (or any programming language). \n",
    "\n",
    "Their data is publicly available. What cool things do you think it would be useful for?\n",
    "\n",
    "Here's one idea:\n",
    "You could set up a service that identifies the Stack Overflow users who have demonstrated expertise with a specific technology by answering related questions about it, so someone could hire those experts for in-depth help.\n",
    "\n",
    "In this exercise, you'll write the SQL queries that might serve as the foundation for this type of service.\n",
    "\n",
    "As usual, run the following cell to set up our feedback system before moving on."
   ]
  },
  {
   "cell_type": "code",
   "execution_count": 1,
   "id": "abb48c9f",
   "metadata": {
    "execution": {
     "iopub.execute_input": "2021-12-29T15:13:27.081854Z",
     "iopub.status.busy": "2021-12-29T15:13:27.079963Z",
     "iopub.status.idle": "2021-12-29T15:13:47.211978Z",
     "shell.execute_reply": "2021-12-29T15:13:47.212590Z",
     "shell.execute_reply.started": "2021-12-29T15:05:37.007463Z"
    },
    "papermill": {
     "duration": 20.158345,
     "end_time": "2021-12-29T15:13:47.212974",
     "exception": false,
     "start_time": "2021-12-29T15:13:27.054629",
     "status": "completed"
    },
    "tags": []
   },
   "outputs": [
    {
     "name": "stdout",
     "output_type": "stream",
     "text": [
      "Using Kaggle's public dataset BigQuery integration.\n"
     ]
    },
    {
     "name": "stderr",
     "output_type": "stream",
     "text": [
      "/opt/conda/lib/python3.7/site-packages/google/cloud/bigquery/client.py:440: UserWarning: Cannot create BigQuery Storage client, the dependency google-cloud-bigquery-storage is not installed.\n",
      "  \"Cannot create BigQuery Storage client, the dependency \"\n"
     ]
    },
    {
     "name": "stdout",
     "output_type": "stream",
     "text": [
      "Setup Complete\n"
     ]
    }
   ],
   "source": [
    "# Set up feedback system\n",
    "from learntools.core import binder\n",
    "binder.bind(globals())\n",
    "from learntools.sql.ex6 import *\n",
    "print(\"Setup Complete\")"
   ]
  },
  {
   "cell_type": "markdown",
   "id": "bcaa41a4",
   "metadata": {
    "papermill": {
     "duration": 0.021648,
     "end_time": "2021-12-29T15:13:47.256691",
     "exception": false,
     "start_time": "2021-12-29T15:13:47.235043",
     "status": "completed"
    },
    "tags": []
   },
   "source": [
    "Run the next cell to fetch the `stackoverflow` dataset."
   ]
  },
  {
   "cell_type": "code",
   "execution_count": 2,
   "id": "8f920e03",
   "metadata": {
    "execution": {
     "iopub.execute_input": "2021-12-29T15:13:47.306082Z",
     "iopub.status.busy": "2021-12-29T15:13:47.304988Z",
     "iopub.status.idle": "2021-12-29T15:13:47.736161Z",
     "shell.execute_reply": "2021-12-29T15:13:47.735540Z",
     "shell.execute_reply.started": "2021-12-29T15:06:10.813881Z"
    },
    "papermill": {
     "duration": 0.458787,
     "end_time": "2021-12-29T15:13:47.736356",
     "exception": false,
     "start_time": "2021-12-29T15:13:47.277569",
     "status": "completed"
    },
    "tags": []
   },
   "outputs": [
    {
     "name": "stdout",
     "output_type": "stream",
     "text": [
      "Using Kaggle's public dataset BigQuery integration.\n"
     ]
    }
   ],
   "source": [
    "from google.cloud import bigquery\n",
    "\n",
    "# Create a \"Client\" object\n",
    "client = bigquery.Client()\n",
    "\n",
    "# Construct a reference to the \"stackoverflow\" dataset\n",
    "dataset_ref = client.dataset(\"stackoverflow\", project=\"bigquery-public-data\")\n",
    "\n",
    "# API request - fetch the dataset\n",
    "dataset = client.get_dataset(dataset_ref)"
   ]
  },
  {
   "cell_type": "markdown",
   "id": "4c5f1ff1",
   "metadata": {
    "papermill": {
     "duration": 0.02079,
     "end_time": "2021-12-29T15:13:47.778558",
     "exception": false,
     "start_time": "2021-12-29T15:13:47.757768",
     "status": "completed"
    },
    "tags": []
   },
   "source": [
    "# Exercises\n",
    "\n",
    "### 1) Explore the data\n",
    "\n",
    "Before writing queries or **JOIN** clauses, you'll want to see what tables are available. \n",
    "\n",
    "*Hint*: Tab completion is helpful whenever you can't remember a command. Type `client.` and then hit the tab key. Don't forget the period before hitting tab."
   ]
  },
  {
   "cell_type": "code",
   "execution_count": 3,
   "id": "19c0611a",
   "metadata": {
    "execution": {
     "iopub.execute_input": "2021-12-29T15:13:47.824398Z",
     "iopub.status.busy": "2021-12-29T15:13:47.823353Z",
     "iopub.status.idle": "2021-12-29T15:13:48.597932Z",
     "shell.execute_reply": "2021-12-29T15:13:48.598562Z",
     "shell.execute_reply.started": "2021-12-29T15:06:14.570757Z"
    },
    "papermill": {
     "duration": 0.799377,
     "end_time": "2021-12-29T15:13:48.598757",
     "exception": false,
     "start_time": "2021-12-29T15:13:47.799380",
     "status": "completed"
    },
    "tags": []
   },
   "outputs": [
    {
     "name": "stdout",
     "output_type": "stream",
     "text": [
      "['badges', 'comments', 'post_history', 'post_links', 'posts_answers', 'posts_moderator_nomination', 'posts_orphaned_tag_wiki', 'posts_privilege_wiki', 'posts_questions', 'posts_tag_wiki', 'posts_tag_wiki_excerpt', 'posts_wiki_placeholder', 'stackoverflow_posts', 'tags', 'users', 'votes']\n"
     ]
    },
    {
     "data": {
      "application/javascript": [
       "parent.postMessage({\"jupyterEvent\": \"custom.exercise_interaction\", \"data\": {\"outcomeType\": 1, \"valueTowardsCompletion\": 0.16666666666666666, \"interactionType\": 1, \"questionType\": 1, \"questionId\": \"1_ListSOTables\", \"learnToolsVersion\": \"0.3.4\", \"failureMessage\": \"\", \"exceptionClass\": \"\", \"trace\": \"\"}}, \"*\")"
      ],
      "text/plain": [
       "<IPython.core.display.Javascript object>"
      ]
     },
     "metadata": {},
     "output_type": "display_data"
    },
    {
     "data": {
      "text/markdown": [
       "<span style=\"color:#33cc33\">Correct</span>"
      ],
      "text/plain": [
       "Correct"
      ]
     },
     "metadata": {},
     "output_type": "display_data"
    }
   ],
   "source": [
    "# Get a list of available tables \n",
    "tables = list(client.list_tables(dataset))\n",
    " \n",
    "list_of_tables = [table.table_id for table in tables]  # Your code here\n",
    "\n",
    "# Print your answer\n",
    "print(list_of_tables)\n",
    "\n",
    "# Check your answer\n",
    "q_1.check()"
   ]
  },
  {
   "cell_type": "markdown",
   "id": "b907471e",
   "metadata": {
    "papermill": {
     "duration": 0.02289,
     "end_time": "2021-12-29T15:13:48.644518",
     "exception": false,
     "start_time": "2021-12-29T15:13:48.621628",
     "status": "completed"
    },
    "tags": []
   },
   "source": [
    "For the solution, uncomment the line below."
   ]
  },
  {
   "cell_type": "code",
   "execution_count": 4,
   "id": "445e5468",
   "metadata": {
    "execution": {
     "iopub.execute_input": "2021-12-29T15:13:48.697166Z",
     "iopub.status.busy": "2021-12-29T15:13:48.696314Z",
     "iopub.status.idle": "2021-12-29T15:13:48.701013Z",
     "shell.execute_reply": "2021-12-29T15:13:48.701551Z",
     "shell.execute_reply.started": "2021-12-28T16:15:17.170101Z"
    },
    "papermill": {
     "duration": 0.034029,
     "end_time": "2021-12-29T15:13:48.701752",
     "exception": false,
     "start_time": "2021-12-29T15:13:48.667723",
     "status": "completed"
    },
    "tags": []
   },
   "outputs": [
    {
     "data": {
      "application/javascript": [
       "parent.postMessage({\"jupyterEvent\": \"custom.exercise_interaction\", \"data\": {\"interactionType\": 3, \"questionType\": 1, \"questionId\": \"1_ListSOTables\", \"learnToolsVersion\": \"0.3.4\", \"valueTowardsCompletion\": 0.0, \"failureMessage\": \"\", \"exceptionClass\": \"\", \"trace\": \"\", \"outcomeType\": 4}}, \"*\")"
      ],
      "text/plain": [
       "<IPython.core.display.Javascript object>"
      ]
     },
     "metadata": {},
     "output_type": "display_data"
    },
    {
     "data": {
      "text/markdown": [
       "<span style=\"color:#33cc99\">Solution:</span> \n",
       "```python\n",
       "\n",
       "# Get a list of available tables \n",
       "tables = list(client.list_tables(dataset))\n",
       "list_of_tables = [table.table_id for table in tables] \n",
       "\n",
       "```"
      ],
      "text/plain": [
       "Solution: \n",
       "```python\n",
       "\n",
       "# Get a list of available tables \n",
       "tables = list(client.list_tables(dataset))\n",
       "list_of_tables = [table.table_id for table in tables] \n",
       "\n",
       "```"
      ]
     },
     "metadata": {},
     "output_type": "display_data"
    }
   ],
   "source": [
    "q_1.solution()"
   ]
  },
  {
   "cell_type": "markdown",
   "id": "dd301bb3",
   "metadata": {
    "papermill": {
     "duration": 0.023242,
     "end_time": "2021-12-29T15:13:48.748315",
     "exception": false,
     "start_time": "2021-12-29T15:13:48.725073",
     "status": "completed"
    },
    "tags": []
   },
   "source": [
    "### 2) Review relevant tables\n",
    "\n",
    "If you are interested in people who answer questions on a given topic, the `posts_answers` table is a natural place to look. Run the following cell, and look at the output."
   ]
  },
  {
   "cell_type": "code",
   "execution_count": 5,
   "id": "146497fd",
   "metadata": {
    "execution": {
     "iopub.execute_input": "2021-12-29T15:13:48.800659Z",
     "iopub.status.busy": "2021-12-29T15:13:48.799972Z",
     "iopub.status.idle": "2021-12-29T15:13:49.698493Z",
     "shell.execute_reply": "2021-12-29T15:13:49.698960Z",
     "shell.execute_reply.started": "2021-12-29T15:06:19.914241Z"
    },
    "papermill": {
     "duration": 0.92666,
     "end_time": "2021-12-29T15:13:49.699143",
     "exception": false,
     "start_time": "2021-12-29T15:13:48.772483",
     "status": "completed"
    },
    "tags": []
   },
   "outputs": [
    {
     "name": "stderr",
     "output_type": "stream",
     "text": [
      "/opt/conda/lib/python3.7/site-packages/ipykernel_launcher.py:8: UserWarning: Cannot use bqstorage_client if max_results is set, reverting to fetching data with the tabledata.list endpoint.\n",
      "  \n"
     ]
    },
    {
     "data": {
      "text/html": [
       "<div>\n",
       "<style scoped>\n",
       "    .dataframe tbody tr th:only-of-type {\n",
       "        vertical-align: middle;\n",
       "    }\n",
       "\n",
       "    .dataframe tbody tr th {\n",
       "        vertical-align: top;\n",
       "    }\n",
       "\n",
       "    .dataframe thead th {\n",
       "        text-align: right;\n",
       "    }\n",
       "</style>\n",
       "<table border=\"1\" class=\"dataframe\">\n",
       "  <thead>\n",
       "    <tr style=\"text-align: right;\">\n",
       "      <th></th>\n",
       "      <th>id</th>\n",
       "      <th>title</th>\n",
       "      <th>body</th>\n",
       "      <th>accepted_answer_id</th>\n",
       "      <th>answer_count</th>\n",
       "      <th>comment_count</th>\n",
       "      <th>community_owned_date</th>\n",
       "      <th>creation_date</th>\n",
       "      <th>favorite_count</th>\n",
       "      <th>last_activity_date</th>\n",
       "      <th>last_edit_date</th>\n",
       "      <th>last_editor_display_name</th>\n",
       "      <th>last_editor_user_id</th>\n",
       "      <th>owner_display_name</th>\n",
       "      <th>owner_user_id</th>\n",
       "      <th>parent_id</th>\n",
       "      <th>post_type_id</th>\n",
       "      <th>score</th>\n",
       "      <th>tags</th>\n",
       "      <th>view_count</th>\n",
       "    </tr>\n",
       "  </thead>\n",
       "  <tbody>\n",
       "    <tr>\n",
       "      <th>0</th>\n",
       "      <td>68472973</td>\n",
       "      <td>None</td>\n",
       "      <td>&lt;p&gt;Thank you.  After thinking through your ans...</td>\n",
       "      <td>None</td>\n",
       "      <td>None</td>\n",
       "      <td>0</td>\n",
       "      <td>NaT</td>\n",
       "      <td>2021-07-21 16:09:49.560000+00:00</td>\n",
       "      <td>None</td>\n",
       "      <td>2021-07-21 16:09:49.560000+00:00</td>\n",
       "      <td>NaT</td>\n",
       "      <td>None</td>\n",
       "      <td>NaN</td>\n",
       "      <td>None</td>\n",
       "      <td>11880888</td>\n",
       "      <td>68461807</td>\n",
       "      <td>2</td>\n",
       "      <td>0</td>\n",
       "      <td>None</td>\n",
       "      <td>None</td>\n",
       "    </tr>\n",
       "    <tr>\n",
       "      <th>1</th>\n",
       "      <td>68472974</td>\n",
       "      <td>None</td>\n",
       "      <td>&lt;pre&gt;&lt;code&gt;SELECT age((((m.message -&amp;gt; 'head...</td>\n",
       "      <td>None</td>\n",
       "      <td>None</td>\n",
       "      <td>0</td>\n",
       "      <td>NaT</td>\n",
       "      <td>2021-07-21 16:09:54.130000+00:00</td>\n",
       "      <td>None</td>\n",
       "      <td>2021-07-21 16:09:54.130000+00:00</td>\n",
       "      <td>NaT</td>\n",
       "      <td>None</td>\n",
       "      <td>NaN</td>\n",
       "      <td>None</td>\n",
       "      <td>14132876</td>\n",
       "      <td>68471992</td>\n",
       "      <td>2</td>\n",
       "      <td>0</td>\n",
       "      <td>None</td>\n",
       "      <td>None</td>\n",
       "    </tr>\n",
       "    <tr>\n",
       "      <th>2</th>\n",
       "      <td>68472975</td>\n",
       "      <td>None</td>\n",
       "      <td>&lt;p&gt;I believe &lt;code&gt;Identifiable&lt;/code&gt; is a pr...</td>\n",
       "      <td>None</td>\n",
       "      <td>None</td>\n",
       "      <td>1</td>\n",
       "      <td>NaT</td>\n",
       "      <td>2021-07-21 16:09:56.317000+00:00</td>\n",
       "      <td>None</td>\n",
       "      <td>2021-07-21 16:09:56.317000+00:00</td>\n",
       "      <td>NaT</td>\n",
       "      <td>None</td>\n",
       "      <td>NaN</td>\n",
       "      <td>None</td>\n",
       "      <td>16487083</td>\n",
       "      <td>68472232</td>\n",
       "      <td>2</td>\n",
       "      <td>0</td>\n",
       "      <td>None</td>\n",
       "      <td>None</td>\n",
       "    </tr>\n",
       "    <tr>\n",
       "      <th>3</th>\n",
       "      <td>68472976</td>\n",
       "      <td>None</td>\n",
       "      <td>&lt;p&gt;Funny enough I had the same problem with th...</td>\n",
       "      <td>None</td>\n",
       "      <td>None</td>\n",
       "      <td>0</td>\n",
       "      <td>NaT</td>\n",
       "      <td>2021-07-21 16:10:06.223000+00:00</td>\n",
       "      <td>None</td>\n",
       "      <td>2021-07-21 16:10:06.223000+00:00</td>\n",
       "      <td>NaT</td>\n",
       "      <td>None</td>\n",
       "      <td>NaN</td>\n",
       "      <td>None</td>\n",
       "      <td>9497800</td>\n",
       "      <td>64728953</td>\n",
       "      <td>2</td>\n",
       "      <td>0</td>\n",
       "      <td>None</td>\n",
       "      <td>None</td>\n",
       "    </tr>\n",
       "    <tr>\n",
       "      <th>4</th>\n",
       "      <td>68472989</td>\n",
       "      <td>None</td>\n",
       "      <td>&lt;p&gt;You either need to set a &lt;code&gt;height&lt;/code...</td>\n",
       "      <td>None</td>\n",
       "      <td>None</td>\n",
       "      <td>0</td>\n",
       "      <td>NaT</td>\n",
       "      <td>2021-07-21 16:10:45.250000+00:00</td>\n",
       "      <td>None</td>\n",
       "      <td>2021-07-21 16:10:45.250000+00:00</td>\n",
       "      <td>NaT</td>\n",
       "      <td>None</td>\n",
       "      <td>NaN</td>\n",
       "      <td>None</td>\n",
       "      <td>6035993</td>\n",
       "      <td>68472903</td>\n",
       "      <td>2</td>\n",
       "      <td>0</td>\n",
       "      <td>None</td>\n",
       "      <td>None</td>\n",
       "    </tr>\n",
       "  </tbody>\n",
       "</table>\n",
       "</div>"
      ],
      "text/plain": [
       "         id title                                               body  \\\n",
       "0  68472973  None  <p>Thank you.  After thinking through your ans...   \n",
       "1  68472974  None  <pre><code>SELECT age((((m.message -&gt; 'head...   \n",
       "2  68472975  None  <p>I believe <code>Identifiable</code> is a pr...   \n",
       "3  68472976  None  <p>Funny enough I had the same problem with th...   \n",
       "4  68472989  None  <p>You either need to set a <code>height</code...   \n",
       "\n",
       "  accepted_answer_id answer_count  comment_count community_owned_date  \\\n",
       "0               None         None              0                  NaT   \n",
       "1               None         None              0                  NaT   \n",
       "2               None         None              1                  NaT   \n",
       "3               None         None              0                  NaT   \n",
       "4               None         None              0                  NaT   \n",
       "\n",
       "                     creation_date favorite_count  \\\n",
       "0 2021-07-21 16:09:49.560000+00:00           None   \n",
       "1 2021-07-21 16:09:54.130000+00:00           None   \n",
       "2 2021-07-21 16:09:56.317000+00:00           None   \n",
       "3 2021-07-21 16:10:06.223000+00:00           None   \n",
       "4 2021-07-21 16:10:45.250000+00:00           None   \n",
       "\n",
       "                last_activity_date last_edit_date last_editor_display_name  \\\n",
       "0 2021-07-21 16:09:49.560000+00:00            NaT                     None   \n",
       "1 2021-07-21 16:09:54.130000+00:00            NaT                     None   \n",
       "2 2021-07-21 16:09:56.317000+00:00            NaT                     None   \n",
       "3 2021-07-21 16:10:06.223000+00:00            NaT                     None   \n",
       "4 2021-07-21 16:10:45.250000+00:00            NaT                     None   \n",
       "\n",
       "   last_editor_user_id owner_display_name  owner_user_id  parent_id  \\\n",
       "0                  NaN               None       11880888   68461807   \n",
       "1                  NaN               None       14132876   68471992   \n",
       "2                  NaN               None       16487083   68472232   \n",
       "3                  NaN               None        9497800   64728953   \n",
       "4                  NaN               None        6035993   68472903   \n",
       "\n",
       "   post_type_id  score  tags view_count  \n",
       "0             2      0  None       None  \n",
       "1             2      0  None       None  \n",
       "2             2      0  None       None  \n",
       "3             2      0  None       None  \n",
       "4             2      0  None       None  "
      ]
     },
     "execution_count": 5,
     "metadata": {},
     "output_type": "execute_result"
    }
   ],
   "source": [
    "# Construct a reference to the \"posts_answers\" table\n",
    "answers_table_ref = dataset_ref.table(\"posts_answers\")\n",
    "\n",
    "# API request - fetch the table\n",
    "answers_table = client.get_table(answers_table_ref)\n",
    "\n",
    "# Preview the first five lines of the \"posts_answers\" table\n",
    "client.list_rows(answers_table, max_results=5).to_dataframe()"
   ]
  },
  {
   "cell_type": "markdown",
   "id": "de420842",
   "metadata": {
    "papermill": {
     "duration": 0.024203,
     "end_time": "2021-12-29T15:13:49.747664",
     "exception": false,
     "start_time": "2021-12-29T15:13:49.723461",
     "status": "completed"
    },
    "tags": []
   },
   "source": [
    "It isn't clear yet how to find users who answered questions on any given topic. But `posts_answers` has a `parent_id` column. If you are familiar with the Stack Overflow site, you might figure out that the `parent_id` is the question each post is answering.\n",
    "\n",
    "Look at `posts_questions` using the cell below."
   ]
  },
  {
   "cell_type": "code",
   "execution_count": 6,
   "id": "f85d819a",
   "metadata": {
    "execution": {
     "iopub.execute_input": "2021-12-29T15:13:49.801565Z",
     "iopub.status.busy": "2021-12-29T15:13:49.800959Z",
     "iopub.status.idle": "2021-12-29T15:13:50.588946Z",
     "shell.execute_reply": "2021-12-29T15:13:50.589476Z",
     "shell.execute_reply.started": "2021-12-29T15:06:26.935093Z"
    },
    "papermill": {
     "duration": 0.816153,
     "end_time": "2021-12-29T15:13:50.589675",
     "exception": false,
     "start_time": "2021-12-29T15:13:49.773522",
     "status": "completed"
    },
    "tags": []
   },
   "outputs": [
    {
     "name": "stderr",
     "output_type": "stream",
     "text": [
      "/opt/conda/lib/python3.7/site-packages/ipykernel_launcher.py:8: UserWarning: Cannot use bqstorage_client if max_results is set, reverting to fetching data with the tabledata.list endpoint.\n",
      "  \n"
     ]
    },
    {
     "data": {
      "text/html": [
       "<div>\n",
       "<style scoped>\n",
       "    .dataframe tbody tr th:only-of-type {\n",
       "        vertical-align: middle;\n",
       "    }\n",
       "\n",
       "    .dataframe tbody tr th {\n",
       "        vertical-align: top;\n",
       "    }\n",
       "\n",
       "    .dataframe thead th {\n",
       "        text-align: right;\n",
       "    }\n",
       "</style>\n",
       "<table border=\"1\" class=\"dataframe\">\n",
       "  <thead>\n",
       "    <tr style=\"text-align: right;\">\n",
       "      <th></th>\n",
       "      <th>id</th>\n",
       "      <th>title</th>\n",
       "      <th>body</th>\n",
       "      <th>accepted_answer_id</th>\n",
       "      <th>answer_count</th>\n",
       "      <th>comment_count</th>\n",
       "      <th>community_owned_date</th>\n",
       "      <th>creation_date</th>\n",
       "      <th>favorite_count</th>\n",
       "      <th>last_activity_date</th>\n",
       "      <th>last_edit_date</th>\n",
       "      <th>last_editor_display_name</th>\n",
       "      <th>last_editor_user_id</th>\n",
       "      <th>owner_display_name</th>\n",
       "      <th>owner_user_id</th>\n",
       "      <th>parent_id</th>\n",
       "      <th>post_type_id</th>\n",
       "      <th>score</th>\n",
       "      <th>tags</th>\n",
       "      <th>view_count</th>\n",
       "    </tr>\n",
       "  </thead>\n",
       "  <tbody>\n",
       "    <tr>\n",
       "      <th>0</th>\n",
       "      <td>68760184</td>\n",
       "      <td>SpawnPrefabAtGeoLocation with mapbox-streets-v8?</td>\n",
       "      <td>&lt;p&gt;How can we spawn custom prefabs at geo loca...</td>\n",
       "      <td>NaN</td>\n",
       "      <td>0</td>\n",
       "      <td>0</td>\n",
       "      <td>NaT</td>\n",
       "      <td>2021-08-12 15:22:56.787000+00:00</td>\n",
       "      <td>NaN</td>\n",
       "      <td>2021-08-12 15:22:56.787000+00:00</td>\n",
       "      <td>NaT</td>\n",
       "      <td>None</td>\n",
       "      <td>NaN</td>\n",
       "      <td>None</td>\n",
       "      <td>8169506</td>\n",
       "      <td>None</td>\n",
       "      <td>1</td>\n",
       "      <td>0</td>\n",
       "      <td>mapbox-unity</td>\n",
       "      <td>2</td>\n",
       "    </tr>\n",
       "    <tr>\n",
       "      <th>1</th>\n",
       "      <td>68776566</td>\n",
       "      <td>Why to use process.nextTick() to call Writeabl...</td>\n",
       "      <td>&lt;p&gt;I was reading the &lt;a href=\"https://nodejs.o...</td>\n",
       "      <td>NaN</td>\n",
       "      <td>0</td>\n",
       "      <td>0</td>\n",
       "      <td>NaT</td>\n",
       "      <td>2021-08-13 17:56:46.653000+00:00</td>\n",
       "      <td>NaN</td>\n",
       "      <td>2021-08-13 17:56:46.653000+00:00</td>\n",
       "      <td>NaT</td>\n",
       "      <td>None</td>\n",
       "      <td>NaN</td>\n",
       "      <td>None</td>\n",
       "      <td>11255630</td>\n",
       "      <td>None</td>\n",
       "      <td>1</td>\n",
       "      <td>0</td>\n",
       "      <td>javascript|node.js|stream|buffer</td>\n",
       "      <td>2</td>\n",
       "    </tr>\n",
       "    <tr>\n",
       "      <th>2</th>\n",
       "      <td>68847727</td>\n",
       "      <td>Share button in browser copy old address url</td>\n",
       "      <td>&lt;p&gt;I dont know but my share button in browser ...</td>\n",
       "      <td>NaN</td>\n",
       "      <td>0</td>\n",
       "      <td>0</td>\n",
       "      <td>NaT</td>\n",
       "      <td>2021-08-19 12:16:22.210000+00:00</td>\n",
       "      <td>NaN</td>\n",
       "      <td>2021-08-19 12:16:22.210000+00:00</td>\n",
       "      <td>NaT</td>\n",
       "      <td>None</td>\n",
       "      <td>NaN</td>\n",
       "      <td>None</td>\n",
       "      <td>15916653</td>\n",
       "      <td>None</td>\n",
       "      <td>1</td>\n",
       "      <td>0</td>\n",
       "      <td>url|mobile</td>\n",
       "      <td>2</td>\n",
       "    </tr>\n",
       "    <tr>\n",
       "      <th>3</th>\n",
       "      <td>68863312</td>\n",
       "      <td>Changed a Virtual Switch on a node and destroy...</td>\n",
       "      <td>&lt;p&gt;I have a Windows Failover cluster with 2 'b...</td>\n",
       "      <td>NaN</td>\n",
       "      <td>0</td>\n",
       "      <td>0</td>\n",
       "      <td>NaT</td>\n",
       "      <td>2021-08-20 13:46:29.450000+00:00</td>\n",
       "      <td>NaN</td>\n",
       "      <td>2021-08-20 13:46:29.450000+00:00</td>\n",
       "      <td>NaT</td>\n",
       "      <td>None</td>\n",
       "      <td>NaN</td>\n",
       "      <td>None</td>\n",
       "      <td>3533172</td>\n",
       "      <td>None</td>\n",
       "      <td>1</td>\n",
       "      <td>0</td>\n",
       "      <td>failovercluster</td>\n",
       "      <td>2</td>\n",
       "    </tr>\n",
       "    <tr>\n",
       "      <th>4</th>\n",
       "      <td>69023598</td>\n",
       "      <td>Problem about exporting data by the function “...</td>\n",
       "      <td>&lt;p&gt;1.The field type defined in the database is...</td>\n",
       "      <td>NaN</td>\n",
       "      <td>0</td>\n",
       "      <td>0</td>\n",
       "      <td>NaT</td>\n",
       "      <td>2021-09-02 03:00:15+00:00</td>\n",
       "      <td>NaN</td>\n",
       "      <td>2021-09-02 03:00:15+00:00</td>\n",
       "      <td>NaT</td>\n",
       "      <td>None</td>\n",
       "      <td>NaN</td>\n",
       "      <td>None</td>\n",
       "      <td>15504166</td>\n",
       "      <td>None</td>\n",
       "      <td>1</td>\n",
       "      <td>0</td>\n",
       "      <td>dolphindb</td>\n",
       "      <td>2</td>\n",
       "    </tr>\n",
       "  </tbody>\n",
       "</table>\n",
       "</div>"
      ],
      "text/plain": [
       "         id                                              title  \\\n",
       "0  68760184   SpawnPrefabAtGeoLocation with mapbox-streets-v8?   \n",
       "1  68776566  Why to use process.nextTick() to call Writeabl...   \n",
       "2  68847727       Share button in browser copy old address url   \n",
       "3  68863312  Changed a Virtual Switch on a node and destroy...   \n",
       "4  69023598  Problem about exporting data by the function “...   \n",
       "\n",
       "                                                body  accepted_answer_id  \\\n",
       "0  <p>How can we spawn custom prefabs at geo loca...                 NaN   \n",
       "1  <p>I was reading the <a href=\"https://nodejs.o...                 NaN   \n",
       "2  <p>I dont know but my share button in browser ...                 NaN   \n",
       "3  <p>I have a Windows Failover cluster with 2 'b...                 NaN   \n",
       "4  <p>1.The field type defined in the database is...                 NaN   \n",
       "\n",
       "   answer_count  comment_count community_owned_date  \\\n",
       "0             0              0                  NaT   \n",
       "1             0              0                  NaT   \n",
       "2             0              0                  NaT   \n",
       "3             0              0                  NaT   \n",
       "4             0              0                  NaT   \n",
       "\n",
       "                     creation_date  favorite_count  \\\n",
       "0 2021-08-12 15:22:56.787000+00:00             NaN   \n",
       "1 2021-08-13 17:56:46.653000+00:00             NaN   \n",
       "2 2021-08-19 12:16:22.210000+00:00             NaN   \n",
       "3 2021-08-20 13:46:29.450000+00:00             NaN   \n",
       "4        2021-09-02 03:00:15+00:00             NaN   \n",
       "\n",
       "                last_activity_date last_edit_date last_editor_display_name  \\\n",
       "0 2021-08-12 15:22:56.787000+00:00            NaT                     None   \n",
       "1 2021-08-13 17:56:46.653000+00:00            NaT                     None   \n",
       "2 2021-08-19 12:16:22.210000+00:00            NaT                     None   \n",
       "3 2021-08-20 13:46:29.450000+00:00            NaT                     None   \n",
       "4        2021-09-02 03:00:15+00:00            NaT                     None   \n",
       "\n",
       "   last_editor_user_id owner_display_name  owner_user_id parent_id  \\\n",
       "0                  NaN               None        8169506      None   \n",
       "1                  NaN               None       11255630      None   \n",
       "2                  NaN               None       15916653      None   \n",
       "3                  NaN               None        3533172      None   \n",
       "4                  NaN               None       15504166      None   \n",
       "\n",
       "   post_type_id  score                              tags  view_count  \n",
       "0             1      0                      mapbox-unity           2  \n",
       "1             1      0  javascript|node.js|stream|buffer           2  \n",
       "2             1      0                        url|mobile           2  \n",
       "3             1      0                   failovercluster           2  \n",
       "4             1      0                         dolphindb           2  "
      ]
     },
     "execution_count": 6,
     "metadata": {},
     "output_type": "execute_result"
    }
   ],
   "source": [
    "# Construct a reference to the \"posts_questions\" table\n",
    "questions_table_ref = dataset_ref.table(\"posts_questions\")\n",
    "\n",
    "# API request - fetch the table\n",
    "questions_table = client.get_table(questions_table_ref)\n",
    "\n",
    "# Preview the first five lines of the \"posts_questions\" table\n",
    "client.list_rows(questions_table, max_results=5).to_dataframe()"
   ]
  },
  {
   "cell_type": "markdown",
   "id": "b60cc592",
   "metadata": {
    "papermill": {
     "duration": 0.026197,
     "end_time": "2021-12-29T15:13:50.642079",
     "exception": false,
     "start_time": "2021-12-29T15:13:50.615882",
     "status": "completed"
    },
    "tags": []
   },
   "source": [
    "Are there any fields that identify what topic or technology each question is about? If so, how could you find the IDs of users who answered questions about a specific topic?\n",
    "\n",
    "Think about it, and then check the solution by running the code in the next cell."
   ]
  },
  {
   "cell_type": "code",
   "execution_count": 7,
   "id": "d904e2ea",
   "metadata": {
    "execution": {
     "iopub.execute_input": "2021-12-29T15:13:50.700980Z",
     "iopub.status.busy": "2021-12-29T15:13:50.700018Z",
     "iopub.status.idle": "2021-12-29T15:13:50.704498Z",
     "shell.execute_reply": "2021-12-29T15:13:50.704960Z",
     "shell.execute_reply.started": "2021-12-28T16:17:52.123010Z"
    },
    "papermill": {
     "duration": 0.036492,
     "end_time": "2021-12-29T15:13:50.705130",
     "exception": false,
     "start_time": "2021-12-29T15:13:50.668638",
     "status": "completed"
    },
    "tags": []
   },
   "outputs": [
    {
     "data": {
      "application/javascript": [
       "parent.postMessage({\"jupyterEvent\": \"custom.exercise_interaction\", \"data\": {\"interactionType\": 3, \"questionType\": 4, \"questionId\": \"2_HowToFindExperts\", \"learnToolsVersion\": \"0.3.4\", \"valueTowardsCompletion\": 0.0, \"failureMessage\": \"\", \"exceptionClass\": \"\", \"trace\": \"\", \"outcomeType\": 4}}, \"*\")"
      ],
      "text/plain": [
       "<IPython.core.display.Javascript object>"
      ]
     },
     "metadata": {},
     "output_type": "display_data"
    },
    {
     "data": {
      "text/markdown": [
       "<span style=\"color:#33cc99\">Solution:</span> \n",
       "`posts_questions` has a column called `tags` which lists the topics/technologies each question is about.\n",
       "\n",
       "`posts_answers` has a column called `parent_id` which identifies the ID of the question each answer is responding to.\n",
       "`posts_answers` also has an `owner_user_id` column which specifies the ID of the user who answered the question.\n",
       "\n",
       "You can join these two tables to:\n",
       "- determine the `tags` for each answer, and then\n",
       "- select the `owner_user_id` of the answers on the desired tag.\n",
       "\n",
       "This is exactly what you will do over the next few questions.\n"
      ],
      "text/plain": [
       "Solution: \n",
       "`posts_questions` has a column called `tags` which lists the topics/technologies each question is about.\n",
       "\n",
       "`posts_answers` has a column called `parent_id` which identifies the ID of the question each answer is responding to.\n",
       "`posts_answers` also has an `owner_user_id` column which specifies the ID of the user who answered the question.\n",
       "\n",
       "You can join these two tables to:\n",
       "- determine the `tags` for each answer, and then\n",
       "- select the `owner_user_id` of the answers on the desired tag.\n",
       "\n",
       "This is exactly what you will do over the next few questions."
      ]
     },
     "metadata": {},
     "output_type": "display_data"
    }
   ],
   "source": [
    "# Check your answer (Run this code cell to receive credit!)\n",
    "q_2.solution()"
   ]
  },
  {
   "cell_type": "markdown",
   "id": "37b7a898",
   "metadata": {
    "papermill": {
     "duration": 0.02623,
     "end_time": "2021-12-29T15:13:50.757826",
     "exception": false,
     "start_time": "2021-12-29T15:13:50.731596",
     "status": "completed"
    },
    "tags": []
   },
   "source": [
    "### 3) Selecting the right questions\n",
    "\n",
    "A lot of this data is text. \n",
    "\n",
    "We'll explore one last technique in this course which you can apply to this text.\n",
    "\n",
    "A **WHERE** clause can limit your results to rows with certain text using the **LIKE** feature. For example, to select just the third row of the `pets` table from the tutorial, we could use the query in the picture below.\n",
    "\n",
    "![](https://i.imgur.com/RccsXBr.png) \n",
    "\n",
    "You can also use `%` as a \"wildcard\" for any number of characters. So you can also get the third row with:\n",
    "\n",
    "```\n",
    "query = \"\"\"\n",
    "        SELECT * \n",
    "        FROM `bigquery-public-data.pet_records.pets` \n",
    "        WHERE Name LIKE '%ipl%'\n",
    "        \"\"\"\n",
    "```\n",
    "\n",
    "Try this yourself. Write a query that selects the `id`, `title` and `owner_user_id` columns from the `posts_questions` table. \n",
    "- Restrict the results to rows that contain the word \"bigquery\" in the `tags` column. \n",
    "- Include rows where there is other text in addition to the word \"bigquery\" (e.g., if a row has a tag \"bigquery-sql\", your results should include that too)."
   ]
  },
  {
   "cell_type": "code",
   "execution_count": 8,
   "id": "ddb1d69a",
   "metadata": {
    "execution": {
     "iopub.execute_input": "2021-12-29T15:13:50.821470Z",
     "iopub.status.busy": "2021-12-29T15:13:50.820671Z",
     "iopub.status.idle": "2021-12-29T15:13:54.489141Z",
     "shell.execute_reply": "2021-12-29T15:13:54.488514Z",
     "shell.execute_reply.started": "2021-12-29T15:06:34.006426Z"
    },
    "papermill": {
     "duration": 3.704569,
     "end_time": "2021-12-29T15:13:54.489331",
     "exception": false,
     "start_time": "2021-12-29T15:13:50.784762",
     "status": "completed"
    },
    "tags": []
   },
   "outputs": [
    {
     "name": "stderr",
     "output_type": "stream",
     "text": [
      "/opt/conda/lib/python3.7/site-packages/google/cloud/bigquery/client.py:440: UserWarning: Cannot create BigQuery Storage client, the dependency google-cloud-bigquery-storage is not installed.\n",
      "  \"Cannot create BigQuery Storage client, the dependency \"\n"
     ]
    },
    {
     "name": "stdout",
     "output_type": "stream",
     "text": [
      "         id                                              title  owner_user_id\n",
      "0  36071832                          Google BigQuery UDF Error      1965449.0\n",
      "1  36008050  Bigquery query output for below data according...      6065606.0\n",
      "2  36144980  REGEXP_REPLACE pattern has to be const? Compar...      4295508.0\n",
      "3  36176143  BigQuery - seeing results of multiple queries ...      5789997.0\n",
      "4  36126078        create a table with two columns type RECORD      5268549.0\n"
     ]
    },
    {
     "data": {
      "application/javascript": [
       "parent.postMessage({\"jupyterEvent\": \"custom.exercise_interaction\", \"data\": {\"outcomeType\": 1, \"valueTowardsCompletion\": 0.16666666666666666, \"interactionType\": 1, \"questionType\": 2, \"questionId\": \"3_SelectRightQuestions\", \"learnToolsVersion\": \"0.3.4\", \"failureMessage\": \"\", \"exceptionClass\": \"\", \"trace\": \"\"}}, \"*\")"
      ],
      "text/plain": [
       "<IPython.core.display.Javascript object>"
      ]
     },
     "metadata": {},
     "output_type": "display_data"
    },
    {
     "data": {
      "text/markdown": [
       "<span style=\"color:#33cc33\">Correct</span>"
      ],
      "text/plain": [
       "Correct"
      ]
     },
     "metadata": {},
     "output_type": "display_data"
    }
   ],
   "source": [
    "# Your code here\n",
    "questions_query = \"\"\"\n",
    "                  SELECT id, title, owner_user_id\n",
    "                  FROM `bigquery-public-data.stackoverflow.posts_questions`\n",
    "                  WHERE tags LIKE '%bigquery%'\n",
    "                  \"\"\"\n",
    "\n",
    "# Set up the query (cancel the query if it would use too much of \n",
    "# your quota, with the limit set to 1 GB)\n",
    "safe_config = bigquery.QueryJobConfig(maximum_bytes_billed=10**10)\n",
    "questions_query_job = client.query(questions_query, job_config=safe_config) # Your code goes here\n",
    "\n",
    "# API request - run the query, and return a pandas DataFrame\n",
    "questions_results = questions_query_job.to_dataframe() # Your code goes here\n",
    "\n",
    "# Preview results\n",
    "print(questions_results.head())\n",
    "\n",
    "# Check your answer\n",
    "q_3.check()"
   ]
  },
  {
   "cell_type": "markdown",
   "id": "afae8c3f",
   "metadata": {
    "papermill": {
     "duration": 0.028643,
     "end_time": "2021-12-29T15:13:54.547002",
     "exception": false,
     "start_time": "2021-12-29T15:13:54.518359",
     "status": "completed"
    },
    "tags": []
   },
   "source": [
    "For a hint or the solution, uncomment the appropriate line below."
   ]
  },
  {
   "cell_type": "code",
   "execution_count": 9,
   "id": "0f6c1cdc",
   "metadata": {
    "execution": {
     "iopub.execute_input": "2021-12-29T15:13:54.611408Z",
     "iopub.status.busy": "2021-12-29T15:13:54.610319Z",
     "iopub.status.idle": "2021-12-29T15:13:54.615417Z",
     "shell.execute_reply": "2021-12-29T15:13:54.615863Z",
     "shell.execute_reply.started": "2021-12-28T16:25:36.613602Z"
    },
    "papermill": {
     "duration": 0.040148,
     "end_time": "2021-12-29T15:13:54.616052",
     "exception": false,
     "start_time": "2021-12-29T15:13:54.575904",
     "status": "completed"
    },
    "tags": []
   },
   "outputs": [
    {
     "data": {
      "application/javascript": [
       "parent.postMessage({\"jupyterEvent\": \"custom.exercise_interaction\", \"data\": {\"interactionType\": 2, \"questionType\": 2, \"questionId\": \"3_SelectRightQuestions\", \"learnToolsVersion\": \"0.3.4\", \"valueTowardsCompletion\": 0.0, \"failureMessage\": \"\", \"exceptionClass\": \"\", \"trace\": \"\", \"outcomeType\": 4}}, \"*\")"
      ],
      "text/plain": [
       "<IPython.core.display.Javascript object>"
      ]
     },
     "metadata": {},
     "output_type": "display_data"
    },
    {
     "data": {
      "text/markdown": [
       "<span style=\"color:#3366cc\">Hint:</span> Your **WHERE** clause should be `WHERE tags LIKE '%bigquery%'`."
      ],
      "text/plain": [
       "Hint: Your **WHERE** clause should be `WHERE tags LIKE '%bigquery%'`."
      ]
     },
     "metadata": {},
     "output_type": "display_data"
    }
   ],
   "source": [
    "q_3.hint()\n",
    "#q_3.solution()"
   ]
  },
  {
   "cell_type": "markdown",
   "id": "1cb0c4e1",
   "metadata": {
    "papermill": {
     "duration": 0.030285,
     "end_time": "2021-12-29T15:13:54.676006",
     "exception": false,
     "start_time": "2021-12-29T15:13:54.645721",
     "status": "completed"
    },
    "tags": []
   },
   "source": [
    "### 4) Your first join\n",
    "Now that you have a query to select questions on any given topic (in this case, you chose \"bigquery\"), you can find the answers to those questions with a **JOIN**.  \n",
    "\n",
    "Write a query that returns the `id`, `body` and `owner_user_id` columns from the `posts_answers` table for answers to \"bigquery\"-related questions. \n",
    "- You should have one row in your results for each answer to a question that has \"bigquery\" in the tags.  \n",
    "- Remember you can get the tags for a question from the `tags` column in the `posts_questions` table.\n",
    "\n",
    "Here's a reminder of what a **JOIN** looked like in the tutorial:\n",
    "```\n",
    "query = \"\"\"\n",
    "        SELECT p.Name AS Pet_Name, o.Name AS Owner_Name\n",
    "        FROM `bigquery-public-data.pet_records.pets` as p\n",
    "        INNER JOIN `bigquery-public-data.pet_records.owners` as o \n",
    "            ON p.ID = o.Pet_ID\n",
    "        \"\"\"\n",
    "```\n",
    "\n",
    "It may be useful to scroll up and review the first several rows of the `posts_answers` and `posts_questions` tables.  "
   ]
  },
  {
   "cell_type": "code",
   "execution_count": 10,
   "id": "50a433ae",
   "metadata": {
    "execution": {
     "iopub.execute_input": "2021-12-29T15:13:54.743780Z",
     "iopub.status.busy": "2021-12-29T15:13:54.742998Z",
     "iopub.status.idle": "2021-12-29T15:14:08.274258Z",
     "shell.execute_reply": "2021-12-29T15:14:08.273737Z",
     "shell.execute_reply.started": "2021-12-29T15:06:42.423622Z"
    },
    "papermill": {
     "duration": 13.569115,
     "end_time": "2021-12-29T15:14:08.274417",
     "exception": false,
     "start_time": "2021-12-29T15:13:54.705302",
     "status": "completed"
    },
    "tags": []
   },
   "outputs": [
    {
     "name": "stderr",
     "output_type": "stream",
     "text": [
      "/opt/conda/lib/python3.7/site-packages/google/cloud/bigquery/client.py:440: UserWarning: Cannot create BigQuery Storage client, the dependency google-cloud-bigquery-storage is not installed.\n",
      "  \"Cannot create BigQuery Storage client, the dependency \"\n"
     ]
    },
    {
     "name": "stdout",
     "output_type": "stream",
     "text": [
      "         id                                               body  owner_user_id\n",
      "0  31272936  <p>There is only one limit that I know of in t...      2417948.0\n",
      "1  31319088  <p>No there isn't. According to the docs on <a...      2417948.0\n",
      "2  31351266  <p>As you can see <a href=\"https://support.goo...      2417948.0\n",
      "3  31369139  <p>I've encountered the same problem.</p>\\n\\n<...      2955540.0\n",
      "4  31429167  <p>I can able to create new TableSchema in .NE...      4961403.0\n"
     ]
    },
    {
     "data": {
      "application/javascript": [
       "parent.postMessage({\"jupyterEvent\": \"custom.exercise_interaction\", \"data\": {\"outcomeType\": 1, \"valueTowardsCompletion\": 0.16666666666666666, \"interactionType\": 1, \"questionType\": 2, \"questionId\": \"4_FirstJoin\", \"learnToolsVersion\": \"0.3.4\", \"failureMessage\": \"\", \"exceptionClass\": \"\", \"trace\": \"\"}}, \"*\")"
      ],
      "text/plain": [
       "<IPython.core.display.Javascript object>"
      ]
     },
     "metadata": {},
     "output_type": "display_data"
    },
    {
     "data": {
      "text/markdown": [
       "<span style=\"color:#33cc33\">Correct</span>"
      ],
      "text/plain": [
       "Correct"
      ]
     },
     "metadata": {},
     "output_type": "display_data"
    }
   ],
   "source": [
    "# Your code here\n",
    "answers_query = \"\"\"SELECT a.id, a.body, a.owner_user_id\n",
    "                FROM `bigquery-public-data.stackoverflow.posts_questions` AS q \n",
    "                INNER JOIN `bigquery-public-data.stackoverflow.posts_answers` AS a\n",
    "                    ON q.id = a.parent_id\n",
    "                WHERE q.tags LIKE '%bigquery%'\n",
    "                \"\"\"\n",
    "\n",
    "# Set up the query\n",
    "safe_config = bigquery.QueryJobConfig(maximum_bytes_billed=27*10**10)\n",
    "answers_query_job = client.query(answers_query, job_config=safe_config) # Your code goes here\n",
    "\n",
    "# API request - run the query, and return a pandas DataFrame\n",
    "answers_results = answers_query_job.to_dataframe() # Your code goes here\n",
    "\n",
    "# Preview results\n",
    "print(answers_results.head())\n",
    "\n",
    "# Check your answer\n",
    "q_4.check()"
   ]
  },
  {
   "cell_type": "markdown",
   "id": "1b5598dc",
   "metadata": {
    "papermill": {
     "duration": 0.030918,
     "end_time": "2021-12-29T15:14:08.336890",
     "exception": false,
     "start_time": "2021-12-29T15:14:08.305972",
     "status": "completed"
    },
    "tags": []
   },
   "source": [
    "For a hint or the solution, uncomment the appropriate line below."
   ]
  },
  {
   "cell_type": "code",
   "execution_count": 11,
   "id": "2692933f",
   "metadata": {
    "execution": {
     "iopub.execute_input": "2021-12-29T15:14:08.403608Z",
     "iopub.status.busy": "2021-12-29T15:14:08.402610Z",
     "iopub.status.idle": "2021-12-29T15:14:08.412680Z",
     "shell.execute_reply": "2021-12-29T15:14:08.413316Z",
     "shell.execute_reply.started": "2021-12-28T16:40:51.982476Z"
    },
    "papermill": {
     "duration": 0.045474,
     "end_time": "2021-12-29T15:14:08.413505",
     "exception": false,
     "start_time": "2021-12-29T15:14:08.368031",
     "status": "completed"
    },
    "tags": []
   },
   "outputs": [
    {
     "data": {
      "application/javascript": [
       "parent.postMessage({\"jupyterEvent\": \"custom.exercise_interaction\", \"data\": {\"interactionType\": 2, \"questionType\": 2, \"questionId\": \"4_FirstJoin\", \"learnToolsVersion\": \"0.3.4\", \"valueTowardsCompletion\": 0.0, \"failureMessage\": \"\", \"exceptionClass\": \"\", \"trace\": \"\", \"outcomeType\": 4}}, \"*\")"
      ],
      "text/plain": [
       "<IPython.core.display.Javascript object>"
      ]
     },
     "metadata": {},
     "output_type": "display_data"
    },
    {
     "data": {
      "text/markdown": [
       "<span style=\"color:#3366cc\">Hint:</span> \n",
       "Do an **INNER JOIN** between `bigquery-public-data.stackoverflow.posts_questions` and `bigquery-public-data.stackoverflow.posts_answers`.\n",
       "\n",
       "Give `post_questions` an alias of `q`, and use `a` as an alias for `posts_answers`. The **ON** part of your join is `q.id = a.parent_id`.\n"
      ],
      "text/plain": [
       "Hint: \n",
       "Do an **INNER JOIN** between `bigquery-public-data.stackoverflow.posts_questions` and `bigquery-public-data.stackoverflow.posts_answers`.\n",
       "\n",
       "Give `post_questions` an alias of `q`, and use `a` as an alias for `posts_answers`. The **ON** part of your join is `q.id = a.parent_id`."
      ]
     },
     "metadata": {},
     "output_type": "display_data"
    },
    {
     "data": {
      "application/javascript": [
       "parent.postMessage({\"jupyterEvent\": \"custom.exercise_interaction\", \"data\": {\"interactionType\": 3, \"questionType\": 2, \"questionId\": \"4_FirstJoin\", \"learnToolsVersion\": \"0.3.4\", \"valueTowardsCompletion\": 0.0, \"failureMessage\": \"\", \"exceptionClass\": \"\", \"trace\": \"\", \"outcomeType\": 4}}, \"*\")"
      ],
      "text/plain": [
       "<IPython.core.display.Javascript object>"
      ]
     },
     "metadata": {},
     "output_type": "display_data"
    },
    {
     "data": {
      "text/markdown": [
       "<span style=\"color:#33cc99\">Solution:</span> \n",
       "```python\n",
       "\n",
       "answers_query = \"\"\"\n",
       "                SELECT a.id, a.body, a.owner_user_id\n",
       "                FROM `bigquery-public-data.stackoverflow.posts_questions` AS q \n",
       "                INNER JOIN `bigquery-public-data.stackoverflow.posts_answers` AS a\n",
       "                    ON q.id = a.parent_id\n",
       "                WHERE q.tags LIKE '%bigquery%'\n",
       "                \"\"\"\n",
       "                \n",
       "# Set up the query (cancel the query if it would use too much of \n",
       "# your quota, with the limit set to 27 GB)\n",
       "safe_config = bigquery.QueryJobConfig(maximum_bytes_billed=27*10**10)\n",
       "answers_query_job = client.query(answers_query, job_config=safe_config)\n",
       "\n",
       "# API request - run the query, and return a pandas DataFrame\n",
       "answers_results = answers_query_job.to_dataframe()\n",
       "\n",
       "```"
      ],
      "text/plain": [
       "Solution: \n",
       "```python\n",
       "\n",
       "answers_query = \"\"\"\n",
       "                SELECT a.id, a.body, a.owner_user_id\n",
       "                FROM `bigquery-public-data.stackoverflow.posts_questions` AS q \n",
       "                INNER JOIN `bigquery-public-data.stackoverflow.posts_answers` AS a\n",
       "                    ON q.id = a.parent_id\n",
       "                WHERE q.tags LIKE '%bigquery%'\n",
       "                \"\"\"\n",
       "                \n",
       "# Set up the query (cancel the query if it would use too much of \n",
       "# your quota, with the limit set to 27 GB)\n",
       "safe_config = bigquery.QueryJobConfig(maximum_bytes_billed=27*10**10)\n",
       "answers_query_job = client.query(answers_query, job_config=safe_config)\n",
       "\n",
       "# API request - run the query, and return a pandas DataFrame\n",
       "answers_results = answers_query_job.to_dataframe()\n",
       "\n",
       "```"
      ]
     },
     "metadata": {},
     "output_type": "display_data"
    }
   ],
   "source": [
    "q_4.hint()\n",
    "q_4.solution()"
   ]
  },
  {
   "cell_type": "markdown",
   "id": "a17fab68",
   "metadata": {
    "papermill": {
     "duration": 0.032845,
     "end_time": "2021-12-29T15:14:08.479672",
     "exception": false,
     "start_time": "2021-12-29T15:14:08.446827",
     "status": "completed"
    },
    "tags": []
   },
   "source": [
    "### 5) Answer the question\n",
    "You have the merge you need. But you want a list of users who have answered many questions... which requires more work beyond your previous result.\n",
    "\n",
    "Write a new query that has a single row for each user who answered at least one question with a tag that includes the string \"bigquery\". Your results should have two columns:\n",
    "- `user_id` - contains the `owner_user_id` column from the `posts_answers` table\n",
    "- `number_of_answers` - contains the number of answers the user has written to \"bigquery\"-related questions"
   ]
  },
  {
   "cell_type": "code",
   "execution_count": 12,
   "id": "8cd57c86",
   "metadata": {
    "execution": {
     "iopub.execute_input": "2021-12-29T15:14:08.549639Z",
     "iopub.status.busy": "2021-12-29T15:14:08.548963Z",
     "iopub.status.idle": "2021-12-29T15:14:10.634933Z",
     "shell.execute_reply": "2021-12-29T15:14:10.635432Z",
     "shell.execute_reply.started": "2021-12-29T15:10:00.711348Z"
    },
    "papermill": {
     "duration": 2.122574,
     "end_time": "2021-12-29T15:14:10.635632",
     "exception": false,
     "start_time": "2021-12-29T15:14:08.513058",
     "status": "completed"
    },
    "tags": []
   },
   "outputs": [
    {
     "name": "stderr",
     "output_type": "stream",
     "text": [
      "/opt/conda/lib/python3.7/site-packages/google/cloud/bigquery/client.py:440: UserWarning: Cannot create BigQuery Storage client, the dependency google-cloud-bigquery-storage is not installed.\n",
      "  \"Cannot create BigQuery Storage client, the dependency \"\n"
     ]
    },
    {
     "name": "stdout",
     "output_type": "stream",
     "text": [
      "     user_id  number_of_answers\n",
      "0  8818869.0                  1\n",
      "1  1318623.0                  1\n",
      "2  3805131.0                  2\n",
      "3  8693105.0                  1\n",
      "4  3802385.0                  1\n"
     ]
    },
    {
     "data": {
      "application/javascript": [
       "parent.postMessage({\"jupyterEvent\": \"custom.exercise_interaction\", \"data\": {\"outcomeType\": 1, \"valueTowardsCompletion\": 0.16666666666666666, \"interactionType\": 1, \"questionType\": 2, \"questionId\": \"5_BigQueryExperts\", \"learnToolsVersion\": \"0.3.4\", \"failureMessage\": \"\", \"exceptionClass\": \"\", \"trace\": \"\"}}, \"*\")"
      ],
      "text/plain": [
       "<IPython.core.display.Javascript object>"
      ]
     },
     "metadata": {},
     "output_type": "display_data"
    },
    {
     "data": {
      "text/markdown": [
       "<span style=\"color:#33cc33\">Correct</span>"
      ],
      "text/plain": [
       "Correct"
      ]
     },
     "metadata": {},
     "output_type": "display_data"
    }
   ],
   "source": [
    "# Your code here\n",
    "bigquery_experts_query = \"\"\"\n",
    "                SELECT a.owner_user_id AS user_id, COUNT(1) AS number_of_answers\n",
    "                FROM `bigquery-public-data.stackoverflow.posts_questions` AS q \n",
    "                INNER JOIN `bigquery-public-data.stackoverflow.posts_answers` AS a\n",
    "                    ON q.id = a.parent_id\n",
    "                WHERE q.tags LIKE '%bigquery%'\n",
    "                GROUP BY a.owner_user_id\n",
    "                \"\"\"\n",
    "\n",
    "# Set up the query\n",
    "safe_config = bigquery.QueryJobConfig(maximum_bytes_billed=10**10)\n",
    "bigquery_experts_query_job = client.query(bigquery_experts_query, job_config=safe_config) # Your code goes here\n",
    "\n",
    "# API request - run the query, and return a pandas DataFrame\n",
    "bigquery_experts_results = bigquery_experts_query_job.to_dataframe() # Your code goes here\n",
    "\n",
    "# Preview results\n",
    "print(bigquery_experts_results.head())\n",
    "\n",
    "# Check your answer\n",
    "q_5.check()"
   ]
  },
  {
   "cell_type": "markdown",
   "id": "c68ee538",
   "metadata": {
    "papermill": {
     "duration": 0.035473,
     "end_time": "2021-12-29T15:14:10.706362",
     "exception": false,
     "start_time": "2021-12-29T15:14:10.670889",
     "status": "completed"
    },
    "tags": []
   },
   "source": [
    "For a hint or the solution, uncomment the appropriate line below."
   ]
  },
  {
   "cell_type": "code",
   "execution_count": 13,
   "id": "24db38d7",
   "metadata": {
    "execution": {
     "iopub.execute_input": "2021-12-29T15:14:10.782651Z",
     "iopub.status.busy": "2021-12-29T15:14:10.781898Z",
     "iopub.status.idle": "2021-12-29T15:14:10.790861Z",
     "shell.execute_reply": "2021-12-29T15:14:10.790380Z",
     "shell.execute_reply.started": "2021-12-29T15:09:33.148340Z"
    },
    "papermill": {
     "duration": 0.049725,
     "end_time": "2021-12-29T15:14:10.791008",
     "exception": false,
     "start_time": "2021-12-29T15:14:10.741283",
     "status": "completed"
    },
    "tags": []
   },
   "outputs": [
    {
     "data": {
      "application/javascript": [
       "parent.postMessage({\"jupyterEvent\": \"custom.exercise_interaction\", \"data\": {\"interactionType\": 2, \"questionType\": 2, \"questionId\": \"5_BigQueryExperts\", \"learnToolsVersion\": \"0.3.4\", \"valueTowardsCompletion\": 0.0, \"failureMessage\": \"\", \"exceptionClass\": \"\", \"trace\": \"\", \"outcomeType\": 4}}, \"*\")"
      ],
      "text/plain": [
       "<IPython.core.display.Javascript object>"
      ]
     },
     "metadata": {},
     "output_type": "display_data"
    },
    {
     "data": {
      "text/markdown": [
       "<span style=\"color:#3366cc\">Hint:</span> Start with `SELECT a.owner_user_id AS user_id, COUNT(1) AS number_of_answers`"
      ],
      "text/plain": [
       "Hint: Start with `SELECT a.owner_user_id AS user_id, COUNT(1) AS number_of_answers`"
      ]
     },
     "metadata": {},
     "output_type": "display_data"
    },
    {
     "data": {
      "application/javascript": [
       "parent.postMessage({\"jupyterEvent\": \"custom.exercise_interaction\", \"data\": {\"interactionType\": 3, \"questionType\": 2, \"questionId\": \"5_BigQueryExperts\", \"learnToolsVersion\": \"0.3.4\", \"valueTowardsCompletion\": 0.0, \"failureMessage\": \"\", \"exceptionClass\": \"\", \"trace\": \"\", \"outcomeType\": 4}}, \"*\")"
      ],
      "text/plain": [
       "<IPython.core.display.Javascript object>"
      ]
     },
     "metadata": {},
     "output_type": "display_data"
    },
    {
     "data": {
      "text/markdown": [
       "<span style=\"color:#33cc99\">Solution:</span> \n",
       "```python\n",
       "\n",
       "bigquery_experts_query = \"\"\"\n",
       "                         SELECT a.owner_user_id AS user_id, COUNT(1) AS number_of_answers\n",
       "                         FROM `bigquery-public-data.stackoverflow.posts_questions` AS q\n",
       "                         INNER JOIN `bigquery-public-data.stackoverflow.posts_answers` AS a\n",
       "                             ON q.id = a.parent_Id\n",
       "                         WHERE q.tags LIKE '%bigquery%'\n",
       "                         GROUP BY a.owner_user_id\n",
       "                         \"\"\"\n",
       "\n",
       "# Set up the query (cancel the query if it would use too much of \n",
       "# your quota, with the limit set to 1 GB)\n",
       "safe_config = bigquery.QueryJobConfig(maximum_bytes_billed=10**10)\n",
       "bigquery_experts_query_job = client.query(bigquery_experts_query, job_config=safe_config)\n",
       "\n",
       "# API request - run the query, and return a pandas DataFrame\n",
       "bigquery_experts_results = bigquery_experts_query_job.to_dataframe()\n",
       "\n",
       "```"
      ],
      "text/plain": [
       "Solution: \n",
       "```python\n",
       "\n",
       "bigquery_experts_query = \"\"\"\n",
       "                         SELECT a.owner_user_id AS user_id, COUNT(1) AS number_of_answers\n",
       "                         FROM `bigquery-public-data.stackoverflow.posts_questions` AS q\n",
       "                         INNER JOIN `bigquery-public-data.stackoverflow.posts_answers` AS a\n",
       "                             ON q.id = a.parent_Id\n",
       "                         WHERE q.tags LIKE '%bigquery%'\n",
       "                         GROUP BY a.owner_user_id\n",
       "                         \"\"\"\n",
       "\n",
       "# Set up the query (cancel the query if it would use too much of \n",
       "# your quota, with the limit set to 1 GB)\n",
       "safe_config = bigquery.QueryJobConfig(maximum_bytes_billed=10**10)\n",
       "bigquery_experts_query_job = client.query(bigquery_experts_query, job_config=safe_config)\n",
       "\n",
       "# API request - run the query, and return a pandas DataFrame\n",
       "bigquery_experts_results = bigquery_experts_query_job.to_dataframe()\n",
       "\n",
       "```"
      ]
     },
     "metadata": {},
     "output_type": "display_data"
    }
   ],
   "source": [
    "q_5.hint()\n",
    "q_5.solution()"
   ]
  },
  {
   "cell_type": "markdown",
   "id": "6a2e7d7c",
   "metadata": {
    "papermill": {
     "duration": 0.036702,
     "end_time": "2021-12-29T15:14:10.864559",
     "exception": false,
     "start_time": "2021-12-29T15:14:10.827857",
     "status": "completed"
    },
    "tags": []
   },
   "source": [
    "### 6) Building a more generally useful service\n",
    "\n",
    "How could you convert what you've done to a general function a website could call on the backend to get experts on any topic?  \n",
    "\n",
    "Think about it and then check the solution below."
   ]
  },
  {
   "cell_type": "code",
   "execution_count": 14,
   "id": "a19d82a3",
   "metadata": {
    "execution": {
     "iopub.execute_input": "2021-12-29T15:14:10.945556Z",
     "iopub.status.busy": "2021-12-29T15:14:10.944872Z",
     "iopub.status.idle": "2021-12-29T15:14:10.950338Z",
     "shell.execute_reply": "2021-12-29T15:14:10.949665Z",
     "shell.execute_reply.started": "2021-12-29T15:10:49.844378Z"
    },
    "papermill": {
     "duration": 0.049024,
     "end_time": "2021-12-29T15:14:10.950492",
     "exception": false,
     "start_time": "2021-12-29T15:14:10.901468",
     "status": "completed"
    },
    "tags": []
   },
   "outputs": [
    {
     "data": {
      "application/javascript": [
       "parent.postMessage({\"jupyterEvent\": \"custom.exercise_interaction\", \"data\": {\"interactionType\": 3, \"questionType\": 4, \"questionId\": \"6_GeneralizeExpertFinder\", \"learnToolsVersion\": \"0.3.4\", \"valueTowardsCompletion\": 0.0, \"failureMessage\": \"\", \"exceptionClass\": \"\", \"trace\": \"\", \"outcomeType\": 4}}, \"*\")"
      ],
      "text/plain": [
       "<IPython.core.display.Javascript object>"
      ]
     },
     "metadata": {},
     "output_type": "display_data"
    },
    {
     "data": {
      "text/markdown": [
       "<span style=\"color:#33cc99\">Solution:</span> \n",
       "```python\n",
       "\n",
       "def expert_finder(topic, client):\n",
       "    '''\n",
       "    Returns a DataFrame with the user IDs who have written Stack Overflow answers on a topic.\n",
       "\n",
       "    Inputs:\n",
       "        topic: A string with the topic of interest\n",
       "        client: A Client object that specifies the connection to the Stack Overflow dataset\n",
       "\n",
       "    Outputs:\n",
       "        results: A DataFrame with columns for user_id and number_of_answers. Follows similar logic to bigquery_experts_results shown above.\n",
       "    '''\n",
       "    my_query = \"\"\"\n",
       "               SELECT a.owner_user_id AS user_id, COUNT(1) AS number_of_answers\n",
       "               FROM `bigquery-public-data.stackoverflow.posts_questions` AS q\n",
       "               INNER JOIN `bigquery-public-data.stackoverflow.posts_answers` AS a\n",
       "                   ON q.id = a.parent_Id\n",
       "               WHERE q.tags like '%{topic}%'\n",
       "               GROUP BY a.owner_user_id\n",
       "               \"\"\"\n",
       "               \n",
       "    # Set up the query (a real service would have good error handling for \n",
       "    # queries that scan too much data)\n",
       "    safe_config = bigquery.QueryJobConfig(maximum_bytes_billed=10**10)      \n",
       "    my_query_job = client.query(my_query, job_config=safe_config)\n",
       "    \n",
       "    # API request - run the query, and return a pandas DataFrame\n",
       "    results = my_query_job.to_dataframe()\n",
       "\n",
       "    return results\n",
       "\n",
       "```"
      ],
      "text/plain": [
       "Solution: \n",
       "```python\n",
       "\n",
       "def expert_finder(topic, client):\n",
       "    '''\n",
       "    Returns a DataFrame with the user IDs who have written Stack Overflow answers on a topic.\n",
       "\n",
       "    Inputs:\n",
       "        topic: A string with the topic of interest\n",
       "        client: A Client object that specifies the connection to the Stack Overflow dataset\n",
       "\n",
       "    Outputs:\n",
       "        results: A DataFrame with columns for user_id and number_of_answers. Follows similar logic to bigquery_experts_results shown above.\n",
       "    '''\n",
       "    my_query = \"\"\"\n",
       "               SELECT a.owner_user_id AS user_id, COUNT(1) AS number_of_answers\n",
       "               FROM `bigquery-public-data.stackoverflow.posts_questions` AS q\n",
       "               INNER JOIN `bigquery-public-data.stackoverflow.posts_answers` AS a\n",
       "                   ON q.id = a.parent_Id\n",
       "               WHERE q.tags like '%{topic}%'\n",
       "               GROUP BY a.owner_user_id\n",
       "               \"\"\"\n",
       "               \n",
       "    # Set up the query (a real service would have good error handling for \n",
       "    # queries that scan too much data)\n",
       "    safe_config = bigquery.QueryJobConfig(maximum_bytes_billed=10**10)      \n",
       "    my_query_job = client.query(my_query, job_config=safe_config)\n",
       "    \n",
       "    # API request - run the query, and return a pandas DataFrame\n",
       "    results = my_query_job.to_dataframe()\n",
       "\n",
       "    return results\n",
       "\n",
       "```"
      ]
     },
     "metadata": {},
     "output_type": "display_data"
    }
   ],
   "source": [
    "# Check your answer (Run this code cell to receive credit!)\n",
    "q_6.solution()"
   ]
  },
  {
   "cell_type": "markdown",
   "id": "4ddfbef6",
   "metadata": {
    "papermill": {
     "duration": 0.038273,
     "end_time": "2021-12-29T15:14:11.027553",
     "exception": false,
     "start_time": "2021-12-29T15:14:10.989280",
     "status": "completed"
    },
    "tags": []
   },
   "source": [
    "# Congratulations!\n",
    "\n",
    "You know all the key components to use BigQuery and SQL effectively. Your SQL skills are sufficient to unlock many of the world's largest datasets.\n",
    "\n",
    "Want to go play with your new powers?  Kaggle has BigQuery datasets available [here](https://www.kaggle.com/datasets?fileType=bigQuery)."
   ]
  },
  {
   "cell_type": "markdown",
   "id": "938fa456",
   "metadata": {
    "papermill": {
     "duration": 0.037668,
     "end_time": "2021-12-29T15:14:11.103063",
     "exception": false,
     "start_time": "2021-12-29T15:14:11.065395",
     "status": "completed"
    },
    "tags": []
   },
   "source": [
    "---\n",
    "\n",
    "\n",
    "\n",
    "\n",
    "*Have questions or comments? Visit the [course discussion forum](https://www.kaggle.com/learn/intro-to-sql/discussion) to chat with other learners.*"
   ]
  }
 ],
 "metadata": {
  "kernelspec": {
   "display_name": "Python 3",
   "language": "python",
   "name": "python3"
  },
  "language_info": {
   "codemirror_mode": {
    "name": "ipython",
    "version": 3
   },
   "file_extension": ".py",
   "mimetype": "text/x-python",
   "name": "python",
   "nbconvert_exporter": "python",
   "pygments_lexer": "ipython3",
   "version": "3.7.12"
  },
  "papermill": {
   "default_parameters": {},
   "duration": 56.001351,
   "end_time": "2021-12-29T15:14:12.053368",
   "environment_variables": {},
   "exception": null,
   "input_path": "__notebook__.ipynb",
   "output_path": "__notebook__.ipynb",
   "parameters": {},
   "start_time": "2021-12-29T15:13:16.052017",
   "version": "2.3.3"
  }
 },
 "nbformat": 4,
 "nbformat_minor": 5
}
