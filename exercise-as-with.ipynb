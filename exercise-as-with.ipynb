{
 "cells": [
  {
   "cell_type": "markdown",
   "id": "a9abc1cb",
   "metadata": {
    "papermill": {
     "duration": 0.019529,
     "end_time": "2021-12-29T15:48:11.342604",
     "exception": false,
     "start_time": "2021-12-29T15:48:11.323075",
     "status": "completed"
    },
    "tags": []
   },
   "source": [
    "**This notebook is an exercise in the [SQL](https://www.kaggle.com/learn/intro-to-sql) course.  You can reference the tutorial at [this link](https://www.kaggle.com/dansbecker/as-with).**\n",
    "\n",
    "---\n"
   ]
  },
  {
   "cell_type": "markdown",
   "id": "29c33de5",
   "metadata": {
    "papermill": {
     "duration": 0.018117,
     "end_time": "2021-12-29T15:48:11.381083",
     "exception": false,
     "start_time": "2021-12-29T15:48:11.362966",
     "status": "completed"
    },
    "tags": []
   },
   "source": [
    "# Introduction\n",
    "\n",
    "You are getting to the point where you can own an analysis from beginning to end. So you'll do more data exploration in this exercise than you've done before.  Before you get started, run the following set-up code as usual. "
   ]
  },
  {
   "cell_type": "code",
   "execution_count": 1,
   "id": "c67e41d6",
   "metadata": {
    "execution": {
     "iopub.execute_input": "2021-12-29T15:48:11.421887Z",
     "iopub.status.busy": "2021-12-29T15:48:11.420698Z",
     "iopub.status.idle": "2021-12-29T15:48:14.420117Z",
     "shell.execute_reply": "2021-12-29T15:48:14.420617Z",
     "shell.execute_reply.started": "2021-12-29T15:38:15.095968Z"
    },
    "papermill": {
     "duration": 3.02143,
     "end_time": "2021-12-29T15:48:14.420927",
     "exception": false,
     "start_time": "2021-12-29T15:48:11.399497",
     "status": "completed"
    },
    "tags": []
   },
   "outputs": [
    {
     "name": "stdout",
     "output_type": "stream",
     "text": [
      "Using Kaggle's public dataset BigQuery integration.\n"
     ]
    },
    {
     "name": "stderr",
     "output_type": "stream",
     "text": [
      "/opt/conda/lib/python3.7/site-packages/google/cloud/bigquery/client.py:440: UserWarning: Cannot create BigQuery Storage client, the dependency google-cloud-bigquery-storage is not installed.\n",
      "  \"Cannot create BigQuery Storage client, the dependency \"\n"
     ]
    },
    {
     "name": "stdout",
     "output_type": "stream",
     "text": [
      "Setup Complete\n"
     ]
    }
   ],
   "source": [
    "# Set up feedback system\n",
    "from learntools.core import binder\n",
    "binder.bind(globals())\n",
    "from learntools.sql.ex5 import *\n",
    "print(\"Setup Complete\")"
   ]
  },
  {
   "cell_type": "markdown",
   "id": "cfdb0e35",
   "metadata": {
    "papermill": {
     "duration": 0.019441,
     "end_time": "2021-12-29T15:48:14.460407",
     "exception": false,
     "start_time": "2021-12-29T15:48:14.440966",
     "status": "completed"
    },
    "tags": []
   },
   "source": [
    "You'll work with a dataset about taxi trips in the city of Chicago. Run the cell below to fetch the `chicago_taxi_trips` dataset."
   ]
  },
  {
   "cell_type": "code",
   "execution_count": 2,
   "id": "9d19296c",
   "metadata": {
    "execution": {
     "iopub.execute_input": "2021-12-29T15:48:14.502792Z",
     "iopub.status.busy": "2021-12-29T15:48:14.502164Z",
     "iopub.status.idle": "2021-12-29T15:48:14.775028Z",
     "shell.execute_reply": "2021-12-29T15:48:14.775520Z",
     "shell.execute_reply.started": "2021-12-29T15:38:22.635593Z"
    },
    "papermill": {
     "duration": 0.295628,
     "end_time": "2021-12-29T15:48:14.775724",
     "exception": false,
     "start_time": "2021-12-29T15:48:14.480096",
     "status": "completed"
    },
    "tags": []
   },
   "outputs": [
    {
     "name": "stdout",
     "output_type": "stream",
     "text": [
      "Using Kaggle's public dataset BigQuery integration.\n"
     ]
    }
   ],
   "source": [
    "from google.cloud import bigquery\n",
    "\n",
    "# Create a \"Client\" object\n",
    "client = bigquery.Client()\n",
    "\n",
    "# Construct a reference to the \"chicago_taxi_trips\" dataset\n",
    "dataset_ref = client.dataset(\"chicago_taxi_trips\", project=\"bigquery-public-data\")\n",
    "\n",
    "# API request - fetch the dataset\n",
    "dataset = client.get_dataset(dataset_ref)"
   ]
  },
  {
   "cell_type": "markdown",
   "id": "87b2d30b",
   "metadata": {
    "papermill": {
     "duration": 0.019555,
     "end_time": "2021-12-29T15:48:14.815614",
     "exception": false,
     "start_time": "2021-12-29T15:48:14.796059",
     "status": "completed"
    },
    "tags": []
   },
   "source": [
    "# Exercises\n",
    "\n",
    "You are curious how much slower traffic moves when traffic volume is high. This involves a few steps.\n",
    "\n",
    "### 1) Find the data\n",
    "Before you can access the data, you need to find the table name with the data.\n",
    "\n",
    "*Hint*: Tab completion is helpful whenever you can't remember a command. Type `client.` and then hit the tab key. Don't forget the period before hitting tab."
   ]
  },
  {
   "cell_type": "code",
   "execution_count": 3,
   "id": "349d345d",
   "metadata": {
    "execution": {
     "iopub.execute_input": "2021-12-29T15:48:14.858456Z",
     "iopub.status.busy": "2021-12-29T15:48:14.857855Z",
     "iopub.status.idle": "2021-12-29T15:48:15.088271Z",
     "shell.execute_reply": "2021-12-29T15:48:15.087752Z",
     "shell.execute_reply.started": "2021-12-29T15:38:26.119203Z"
    },
    "papermill": {
     "duration": 0.253032,
     "end_time": "2021-12-29T15:48:15.088411",
     "exception": false,
     "start_time": "2021-12-29T15:48:14.835379",
     "status": "completed"
    },
    "tags": []
   },
   "outputs": [
    {
     "name": "stdout",
     "output_type": "stream",
     "text": [
      "taxi_trips\n"
     ]
    }
   ],
   "source": [
    "# Your code here to find the table name\n",
    "tables = list(client.list_tables(dataset))\n",
    "\n",
    "for table in tables:\n",
    "    print(table.table_id)"
   ]
  },
  {
   "cell_type": "code",
   "execution_count": 4,
   "id": "39906ae0",
   "metadata": {
    "execution": {
     "iopub.execute_input": "2021-12-29T15:48:15.133228Z",
     "iopub.status.busy": "2021-12-29T15:48:15.132579Z",
     "iopub.status.idle": "2021-12-29T15:48:15.138951Z",
     "shell.execute_reply": "2021-12-29T15:48:15.139476Z",
     "shell.execute_reply.started": "2021-12-29T15:38:29.926867Z"
    },
    "papermill": {
     "duration": 0.031003,
     "end_time": "2021-12-29T15:48:15.139618",
     "exception": false,
     "start_time": "2021-12-29T15:48:15.108615",
     "status": "completed"
    },
    "tags": []
   },
   "outputs": [
    {
     "data": {
      "application/javascript": [
       "parent.postMessage({\"jupyterEvent\": \"custom.exercise_interaction\", \"data\": {\"outcomeType\": 1, \"valueTowardsCompletion\": 0.16666666666666666, \"interactionType\": 1, \"questionType\": 1, \"questionId\": \"1_GetTableName\", \"learnToolsVersion\": \"0.3.4\", \"failureMessage\": \"\", \"exceptionClass\": \"\", \"trace\": \"\"}}, \"*\")"
      ],
      "text/plain": [
       "<IPython.core.display.Javascript object>"
      ]
     },
     "metadata": {},
     "output_type": "display_data"
    },
    {
     "data": {
      "text/markdown": [
       "<span style=\"color:#33cc33\">Correct</span>"
      ],
      "text/plain": [
       "Correct"
      ]
     },
     "metadata": {},
     "output_type": "display_data"
    }
   ],
   "source": [
    "# Write the table name as a string below\n",
    "table_name = 'taxi_trips'\n",
    "\n",
    "# Check your answer\n",
    "q_1.check()"
   ]
  },
  {
   "cell_type": "markdown",
   "id": "65a9685a",
   "metadata": {
    "papermill": {
     "duration": 0.020529,
     "end_time": "2021-12-29T15:48:15.181067",
     "exception": false,
     "start_time": "2021-12-29T15:48:15.160538",
     "status": "completed"
    },
    "tags": []
   },
   "source": [
    "For the solution, uncomment the line below."
   ]
  },
  {
   "cell_type": "code",
   "execution_count": 5,
   "id": "d887e53d",
   "metadata": {
    "execution": {
     "iopub.execute_input": "2021-12-29T15:48:15.227920Z",
     "iopub.status.busy": "2021-12-29T15:48:15.227246Z",
     "iopub.status.idle": "2021-12-29T15:48:15.231071Z",
     "shell.execute_reply": "2021-12-29T15:48:15.231570Z",
     "shell.execute_reply.started": "2021-12-28T13:55:27.208443Z"
    },
    "papermill": {
     "duration": 0.029756,
     "end_time": "2021-12-29T15:48:15.231773",
     "exception": false,
     "start_time": "2021-12-29T15:48:15.202017",
     "status": "completed"
    },
    "tags": []
   },
   "outputs": [
    {
     "data": {
      "application/javascript": [
       "parent.postMessage({\"jupyterEvent\": \"custom.exercise_interaction\", \"data\": {\"interactionType\": 3, \"questionType\": 1, \"questionId\": \"1_GetTableName\", \"learnToolsVersion\": \"0.3.4\", \"valueTowardsCompletion\": 0.0, \"failureMessage\": \"\", \"exceptionClass\": \"\", \"trace\": \"\", \"outcomeType\": 4}}, \"*\")"
      ],
      "text/plain": [
       "<IPython.core.display.Javascript object>"
      ]
     },
     "metadata": {},
     "output_type": "display_data"
    },
    {
     "data": {
      "text/markdown": [
       "<span style=\"color:#33cc99\">Solution:</span> \n",
       "```python\n",
       "\n",
       "# List all the tables in the dataset\n",
       "tables = list(client.list_tables(dataset))\n",
       "\n",
       "# Print names of all tables in the dataset (there is only one!)\n",
       "for table in tables:  \n",
       "    print(table.table_id)\n",
       "\n",
       "table_name = 'taxi_trips'\n",
       "    \n",
       "```"
      ],
      "text/plain": [
       "Solution: \n",
       "```python\n",
       "\n",
       "# List all the tables in the dataset\n",
       "tables = list(client.list_tables(dataset))\n",
       "\n",
       "# Print names of all tables in the dataset (there is only one!)\n",
       "for table in tables:  \n",
       "    print(table.table_id)\n",
       "\n",
       "table_name = 'taxi_trips'\n",
       "    \n",
       "```"
      ]
     },
     "metadata": {},
     "output_type": "display_data"
    }
   ],
   "source": [
    "q_1.solution()"
   ]
  },
  {
   "cell_type": "markdown",
   "id": "636e3df0",
   "metadata": {
    "papermill": {
     "duration": 0.021855,
     "end_time": "2021-12-29T15:48:15.275709",
     "exception": false,
     "start_time": "2021-12-29T15:48:15.253854",
     "status": "completed"
    },
    "tags": []
   },
   "source": [
    "### 2) Peek at the data\n",
    "\n",
    "Use the next code cell to peek at the top few rows of the data. Inspect the data and see if any issues with data quality are immediately obvious. "
   ]
  },
  {
   "cell_type": "code",
   "execution_count": 6,
   "id": "704f6c33",
   "metadata": {
    "execution": {
     "iopub.execute_input": "2021-12-29T15:48:15.327611Z",
     "iopub.status.busy": "2021-12-29T15:48:15.327013Z",
     "iopub.status.idle": "2021-12-29T15:48:15.916257Z",
     "shell.execute_reply": "2021-12-29T15:48:15.916751Z",
     "shell.execute_reply.started": "2021-12-29T15:38:35.582784Z"
    },
    "papermill": {
     "duration": 0.618965,
     "end_time": "2021-12-29T15:48:15.916917",
     "exception": false,
     "start_time": "2021-12-29T15:48:15.297952",
     "status": "completed"
    },
    "tags": []
   },
   "outputs": [
    {
     "name": "stderr",
     "output_type": "stream",
     "text": [
      "/opt/conda/lib/python3.7/site-packages/ipykernel_launcher.py:7: UserWarning: Cannot use bqstorage_client if max_results is set, reverting to fetching data with the tabledata.list endpoint.\n",
      "  import sys\n"
     ]
    },
    {
     "data": {
      "text/html": [
       "<div>\n",
       "<style scoped>\n",
       "    .dataframe tbody tr th:only-of-type {\n",
       "        vertical-align: middle;\n",
       "    }\n",
       "\n",
       "    .dataframe tbody tr th {\n",
       "        vertical-align: top;\n",
       "    }\n",
       "\n",
       "    .dataframe thead th {\n",
       "        text-align: right;\n",
       "    }\n",
       "</style>\n",
       "<table border=\"1\" class=\"dataframe\">\n",
       "  <thead>\n",
       "    <tr style=\"text-align: right;\">\n",
       "      <th></th>\n",
       "      <th>unique_key</th>\n",
       "      <th>taxi_id</th>\n",
       "      <th>trip_start_timestamp</th>\n",
       "      <th>trip_end_timestamp</th>\n",
       "      <th>trip_seconds</th>\n",
       "      <th>trip_miles</th>\n",
       "      <th>pickup_census_tract</th>\n",
       "      <th>dropoff_census_tract</th>\n",
       "      <th>pickup_community_area</th>\n",
       "      <th>dropoff_community_area</th>\n",
       "      <th>...</th>\n",
       "      <th>extras</th>\n",
       "      <th>trip_total</th>\n",
       "      <th>payment_type</th>\n",
       "      <th>company</th>\n",
       "      <th>pickup_latitude</th>\n",
       "      <th>pickup_longitude</th>\n",
       "      <th>pickup_location</th>\n",
       "      <th>dropoff_latitude</th>\n",
       "      <th>dropoff_longitude</th>\n",
       "      <th>dropoff_location</th>\n",
       "    </tr>\n",
       "  </thead>\n",
       "  <tbody>\n",
       "    <tr>\n",
       "      <th>0</th>\n",
       "      <td>41f9129881a591ab82f8e99cf123861b987b7fb0</td>\n",
       "      <td>650f1eb18368b4259cca658226c73da3ee085d8704a8db...</td>\n",
       "      <td>2016-09-08 13:15:00+00:00</td>\n",
       "      <td>2016-09-08 13:15:00+00:00</td>\n",
       "      <td>4</td>\n",
       "      <td>0.0</td>\n",
       "      <td>NaN</td>\n",
       "      <td>NaN</td>\n",
       "      <td>NaN</td>\n",
       "      <td>NaN</td>\n",
       "      <td>...</td>\n",
       "      <td>0.0</td>\n",
       "      <td>2.0</td>\n",
       "      <td>Cash</td>\n",
       "      <td>303 Taxi</td>\n",
       "      <td>NaN</td>\n",
       "      <td>NaN</td>\n",
       "      <td>None</td>\n",
       "      <td>NaN</td>\n",
       "      <td>NaN</td>\n",
       "      <td>None</td>\n",
       "    </tr>\n",
       "    <tr>\n",
       "      <th>1</th>\n",
       "      <td>4141588ac332336ac4dec34e7fbfacd1205be20b</td>\n",
       "      <td>d93c8671cb61365205f58a41ecce7bcb1510cbb4904af3...</td>\n",
       "      <td>2016-01-29 21:15:00+00:00</td>\n",
       "      <td>2016-01-29 21:15:00+00:00</td>\n",
       "      <td>255</td>\n",
       "      <td>1.2</td>\n",
       "      <td>NaN</td>\n",
       "      <td>NaN</td>\n",
       "      <td>NaN</td>\n",
       "      <td>NaN</td>\n",
       "      <td>...</td>\n",
       "      <td>0.0</td>\n",
       "      <td>4.6</td>\n",
       "      <td>Cash</td>\n",
       "      <td>Metro Group</td>\n",
       "      <td>NaN</td>\n",
       "      <td>NaN</td>\n",
       "      <td>None</td>\n",
       "      <td>NaN</td>\n",
       "      <td>NaN</td>\n",
       "      <td>None</td>\n",
       "    </tr>\n",
       "    <tr>\n",
       "      <th>2</th>\n",
       "      <td>885cad3f5b936d17e2fb4288baab476f7e965af8</td>\n",
       "      <td>090437d3da1f63e9b298bb26e11afed34b4fff7ad09746...</td>\n",
       "      <td>2016-09-06 16:00:00+00:00</td>\n",
       "      <td>2016-09-06 16:00:00+00:00</td>\n",
       "      <td>349</td>\n",
       "      <td>1.2</td>\n",
       "      <td>NaN</td>\n",
       "      <td>NaN</td>\n",
       "      <td>NaN</td>\n",
       "      <td>NaN</td>\n",
       "      <td>...</td>\n",
       "      <td>0.0</td>\n",
       "      <td>5.4</td>\n",
       "      <td>Cash</td>\n",
       "      <td>303 Taxi</td>\n",
       "      <td>NaN</td>\n",
       "      <td>NaN</td>\n",
       "      <td>None</td>\n",
       "      <td>NaN</td>\n",
       "      <td>NaN</td>\n",
       "      <td>None</td>\n",
       "    </tr>\n",
       "    <tr>\n",
       "      <th>3</th>\n",
       "      <td>d6c959e6fb0008822ebf4559e7affebdce8cd8c8</td>\n",
       "      <td>65d7dc8d6b33f2d02c82a6851aa93f825aaa6cba6b474a...</td>\n",
       "      <td>2016-09-03 15:00:00+00:00</td>\n",
       "      <td>2016-09-03 15:30:00+00:00</td>\n",
       "      <td>1595</td>\n",
       "      <td>2.2</td>\n",
       "      <td>NaN</td>\n",
       "      <td>NaN</td>\n",
       "      <td>NaN</td>\n",
       "      <td>NaN</td>\n",
       "      <td>...</td>\n",
       "      <td>0.0</td>\n",
       "      <td>14.4</td>\n",
       "      <td>Cash</td>\n",
       "      <td>303 Taxi</td>\n",
       "      <td>NaN</td>\n",
       "      <td>NaN</td>\n",
       "      <td>None</td>\n",
       "      <td>NaN</td>\n",
       "      <td>NaN</td>\n",
       "      <td>None</td>\n",
       "    </tr>\n",
       "    <tr>\n",
       "      <th>4</th>\n",
       "      <td>003deb8bc22f812738473473a110c4df2e163952</td>\n",
       "      <td>65d7dc8d6b33f2d02c82a6851aa93f825aaa6cba6b474a...</td>\n",
       "      <td>2016-09-03 17:15:00+00:00</td>\n",
       "      <td>2016-09-03 17:30:00+00:00</td>\n",
       "      <td>474</td>\n",
       "      <td>2.9</td>\n",
       "      <td>NaN</td>\n",
       "      <td>NaN</td>\n",
       "      <td>NaN</td>\n",
       "      <td>NaN</td>\n",
       "      <td>...</td>\n",
       "      <td>0.0</td>\n",
       "      <td>8.6</td>\n",
       "      <td>Cash</td>\n",
       "      <td>303 Taxi</td>\n",
       "      <td>NaN</td>\n",
       "      <td>NaN</td>\n",
       "      <td>None</td>\n",
       "      <td>NaN</td>\n",
       "      <td>NaN</td>\n",
       "      <td>None</td>\n",
       "    </tr>\n",
       "  </tbody>\n",
       "</table>\n",
       "<p>5 rows × 23 columns</p>\n",
       "</div>"
      ],
      "text/plain": [
       "                                 unique_key  \\\n",
       "0  41f9129881a591ab82f8e99cf123861b987b7fb0   \n",
       "1  4141588ac332336ac4dec34e7fbfacd1205be20b   \n",
       "2  885cad3f5b936d17e2fb4288baab476f7e965af8   \n",
       "3  d6c959e6fb0008822ebf4559e7affebdce8cd8c8   \n",
       "4  003deb8bc22f812738473473a110c4df2e163952   \n",
       "\n",
       "                                             taxi_id  \\\n",
       "0  650f1eb18368b4259cca658226c73da3ee085d8704a8db...   \n",
       "1  d93c8671cb61365205f58a41ecce7bcb1510cbb4904af3...   \n",
       "2  090437d3da1f63e9b298bb26e11afed34b4fff7ad09746...   \n",
       "3  65d7dc8d6b33f2d02c82a6851aa93f825aaa6cba6b474a...   \n",
       "4  65d7dc8d6b33f2d02c82a6851aa93f825aaa6cba6b474a...   \n",
       "\n",
       "       trip_start_timestamp        trip_end_timestamp  trip_seconds  \\\n",
       "0 2016-09-08 13:15:00+00:00 2016-09-08 13:15:00+00:00             4   \n",
       "1 2016-01-29 21:15:00+00:00 2016-01-29 21:15:00+00:00           255   \n",
       "2 2016-09-06 16:00:00+00:00 2016-09-06 16:00:00+00:00           349   \n",
       "3 2016-09-03 15:00:00+00:00 2016-09-03 15:30:00+00:00          1595   \n",
       "4 2016-09-03 17:15:00+00:00 2016-09-03 17:30:00+00:00           474   \n",
       "\n",
       "   trip_miles  pickup_census_tract  dropoff_census_tract  \\\n",
       "0         0.0                  NaN                   NaN   \n",
       "1         1.2                  NaN                   NaN   \n",
       "2         1.2                  NaN                   NaN   \n",
       "3         2.2                  NaN                   NaN   \n",
       "4         2.9                  NaN                   NaN   \n",
       "\n",
       "   pickup_community_area  dropoff_community_area  ...  extras  trip_total  \\\n",
       "0                    NaN                     NaN  ...     0.0         2.0   \n",
       "1                    NaN                     NaN  ...     0.0         4.6   \n",
       "2                    NaN                     NaN  ...     0.0         5.4   \n",
       "3                    NaN                     NaN  ...     0.0        14.4   \n",
       "4                    NaN                     NaN  ...     0.0         8.6   \n",
       "\n",
       "   payment_type      company  pickup_latitude pickup_longitude  \\\n",
       "0          Cash     303 Taxi              NaN              NaN   \n",
       "1          Cash  Metro Group              NaN              NaN   \n",
       "2          Cash     303 Taxi              NaN              NaN   \n",
       "3          Cash     303 Taxi              NaN              NaN   \n",
       "4          Cash     303 Taxi              NaN              NaN   \n",
       "\n",
       "  pickup_location  dropoff_latitude  dropoff_longitude dropoff_location  \n",
       "0            None               NaN                NaN             None  \n",
       "1            None               NaN                NaN             None  \n",
       "2            None               NaN                NaN             None  \n",
       "3            None               NaN                NaN             None  \n",
       "4            None               NaN                NaN             None  \n",
       "\n",
       "[5 rows x 23 columns]"
      ]
     },
     "execution_count": 6,
     "metadata": {},
     "output_type": "execute_result"
    }
   ],
   "source": [
    "# Your code here\n",
    "#create a reference to the data\n",
    "table_ref = dataset_ref.table(\"taxi_trips\")\n",
    "\n",
    "table = client.get_table(table_ref)\n",
    "\n",
    "client.list_rows(table, max_results=5).to_dataframe()"
   ]
  },
  {
   "cell_type": "markdown",
   "id": "7646112c",
   "metadata": {
    "papermill": {
     "duration": 0.023111,
     "end_time": "2021-12-29T15:48:15.964275",
     "exception": false,
     "start_time": "2021-12-29T15:48:15.941164",
     "status": "completed"
    },
    "tags": []
   },
   "source": [
    "After deciding whether you see any important issues, run the code cell below."
   ]
  },
  {
   "cell_type": "code",
   "execution_count": 7,
   "id": "6c552be5",
   "metadata": {
    "execution": {
     "iopub.execute_input": "2021-12-29T15:48:16.016419Z",
     "iopub.status.busy": "2021-12-29T15:48:16.015777Z",
     "iopub.status.idle": "2021-12-29T15:48:16.021541Z",
     "shell.execute_reply": "2021-12-29T15:48:16.022168Z",
     "shell.execute_reply.started": "2021-12-28T13:57:21.421048Z"
    },
    "papermill": {
     "duration": 0.033576,
     "end_time": "2021-12-29T15:48:16.022328",
     "exception": false,
     "start_time": "2021-12-29T15:48:15.988752",
     "status": "completed"
    },
    "tags": []
   },
   "outputs": [
    {
     "data": {
      "application/javascript": [
       "parent.postMessage({\"jupyterEvent\": \"custom.exercise_interaction\", \"data\": {\"interactionType\": 3, \"questionType\": 4, \"questionId\": \"2_WhatsWrongWithData\", \"learnToolsVersion\": \"0.3.4\", \"valueTowardsCompletion\": 0.0, \"failureMessage\": \"\", \"exceptionClass\": \"\", \"trace\": \"\", \"outcomeType\": 4}}, \"*\")"
      ],
      "text/plain": [
       "<IPython.core.display.Javascript object>"
      ]
     },
     "metadata": {},
     "output_type": "display_data"
    },
    {
     "data": {
      "text/markdown": [
       "<span style=\"color:#33cc99\">Solution:</span> \n",
       "You can see the data by calling: \n",
       "```python\n",
       "# Construct a reference to the \"taxi_trips\" table\n",
       "table_ref = dataset_ref.table(\"taxi_trips\")\n",
       "\n",
       "# API request - fetch the table\n",
       "table = client.get_table(table_ref)\n",
       "\n",
       "# Preview the first five lines of the \"taxi_trips\" table\n",
       "client.list_rows(table, max_results=5).to_dataframe()\n",
       "```\n",
       "\n",
       "Some trips in the top few rows have `trip_seconds` or `trip_miles` values of 0. \n",
       "Other location fields have values of `None`. That is a problem if we want to use those fields.\n"
      ],
      "text/plain": [
       "Solution: \n",
       "You can see the data by calling: \n",
       "```python\n",
       "# Construct a reference to the \"taxi_trips\" table\n",
       "table_ref = dataset_ref.table(\"taxi_trips\")\n",
       "\n",
       "# API request - fetch the table\n",
       "table = client.get_table(table_ref)\n",
       "\n",
       "# Preview the first five lines of the \"taxi_trips\" table\n",
       "client.list_rows(table, max_results=5).to_dataframe()\n",
       "```\n",
       "\n",
       "Some trips in the top few rows have `trip_seconds` or `trip_miles` values of 0. \n",
       "Other location fields have values of `None`. That is a problem if we want to use those fields."
      ]
     },
     "metadata": {},
     "output_type": "display_data"
    }
   ],
   "source": [
    "# Check your answer (Run this code cell to receive credit!)\n",
    "q_2.solution()"
   ]
  },
  {
   "cell_type": "markdown",
   "id": "00f09d4a",
   "metadata": {
    "papermill": {
     "duration": 0.02417,
     "end_time": "2021-12-29T15:48:16.071235",
     "exception": false,
     "start_time": "2021-12-29T15:48:16.047065",
     "status": "completed"
    },
    "tags": []
   },
   "source": [
    "### 3) Determine when this data is from\n",
    "\n",
    "If the data is sufficiently old, we might be careful before assuming the data is still relevant to traffic patterns today. Write a query that counts the number of trips in each year.  \n",
    "\n",
    "Your results should have two columns:\n",
    "- `year` - the year of the trips\n",
    "- `num_trips` - the number of trips in that year\n",
    "\n",
    "Hints:\n",
    "- When using **GROUP BY** and **ORDER BY**, you should refer to the columns by the alias `year` that you set at the top of the **SELECT** query.\n",
    "- The SQL code to **SELECT** the year from `trip_start_timestamp` is <code>SELECT EXTRACT(YEAR FROM trip_start_timestamp)</code>\n",
    "- The **FROM** field can be a little tricky until you are used to it.  The format is:\n",
    "    1. A backick (the symbol \\`).\n",
    "    2. The project name. In this case it is `bigquery-public-data`.\n",
    "    3. A period.\n",
    "    4. The dataset name. In this case, it is `chicago_taxi_trips`.\n",
    "    5. A period.\n",
    "    6. The table name. You used this as your answer in **1) Find the data**.\n",
    "    7. A backtick (the symbol \\`)."
   ]
  },
  {
   "cell_type": "code",
   "execution_count": 8,
   "id": "8151ff13",
   "metadata": {
    "execution": {
     "iopub.execute_input": "2021-12-29T15:48:16.123759Z",
     "iopub.status.busy": "2021-12-29T15:48:16.123143Z",
     "iopub.status.idle": "2021-12-29T15:48:17.673465Z",
     "shell.execute_reply": "2021-12-29T15:48:17.672595Z",
     "shell.execute_reply.started": "2021-12-29T15:40:42.343206Z"
    },
    "papermill": {
     "duration": 1.57786,
     "end_time": "2021-12-29T15:48:17.673654",
     "exception": false,
     "start_time": "2021-12-29T15:48:16.095794",
     "status": "completed"
    },
    "tags": []
   },
   "outputs": [
    {
     "name": "stderr",
     "output_type": "stream",
     "text": [
      "/opt/conda/lib/python3.7/site-packages/google/cloud/bigquery/client.py:440: UserWarning: Cannot create BigQuery Storage client, the dependency google-cloud-bigquery-storage is not installed.\n",
      "  \"Cannot create BigQuery Storage client, the dependency \"\n"
     ]
    },
    {
     "name": "stdout",
     "output_type": "stream",
     "text": [
      "   year  num_trips\n",
      "0  2013   27217716\n",
      "1  2014   37395436\n",
      "2  2015   32385875\n",
      "3  2016   31759339\n",
      "4  2017   24988003\n",
      "5  2018   20732088\n",
      "6  2019   16477365\n",
      "7  2020    3889032\n",
      "8  2021    3517824\n"
     ]
    },
    {
     "data": {
      "application/javascript": [
       "parent.postMessage({\"jupyterEvent\": \"custom.exercise_interaction\", \"data\": {\"outcomeType\": 1, \"valueTowardsCompletion\": 0.16666666666666666, \"interactionType\": 1, \"questionType\": 2, \"questionId\": \"3_YearDistrib\", \"learnToolsVersion\": \"0.3.4\", \"failureMessage\": \"\", \"exceptionClass\": \"\", \"trace\": \"\"}}, \"*\")"
      ],
      "text/plain": [
       "<IPython.core.display.Javascript object>"
      ]
     },
     "metadata": {},
     "output_type": "display_data"
    },
    {
     "data": {
      "text/markdown": [
       "<span style=\"color:#33cc33\">Correct</span>"
      ],
      "text/plain": [
       "Correct"
      ]
     },
     "metadata": {},
     "output_type": "display_data"
    }
   ],
   "source": [
    "# Your code goes here\n",
    "rides_per_year_query = \"\"\"\n",
    "                       SELECT EXTRACT(YEAR FROM trip_start_timestamp) AS year, \n",
    "                              COUNT(1) AS num_trips\n",
    "                       FROM `bigquery-public-data.chicago_taxi_trips.taxi_trips`\n",
    "                       GROUP BY year\n",
    "                       ORDER BY year\n",
    "                       \"\"\"\n",
    "\n",
    "# Set up the query (cancel the query if it would use too much of \n",
    "# your quota)\n",
    "safe_config = bigquery.QueryJobConfig(maximum_bytes_billed=10**10)\n",
    "rides_per_year_query_job = client.query(rides_per_year_query, job_config=safe_config)\n",
    " # Your code goes here\n",
    "\n",
    "# API request - run the query, and return a pandas DataFrame\n",
    "rides_per_year_result = rides_per_year_query_job.to_dataframe() # Your code goes here\n",
    "\n",
    "# View results\n",
    "print(rides_per_year_result)\n",
    "\n",
    "# Check your answer\n",
    "q_3.check()"
   ]
  },
  {
   "cell_type": "markdown",
   "id": "a810d867",
   "metadata": {
    "papermill": {
     "duration": 0.025865,
     "end_time": "2021-12-29T15:48:17.726335",
     "exception": false,
     "start_time": "2021-12-29T15:48:17.700470",
     "status": "completed"
    },
    "tags": []
   },
   "source": [
    "For a hint or the solution, uncomment the appropriate line below."
   ]
  },
  {
   "cell_type": "code",
   "execution_count": 9,
   "id": "b73d5a24",
   "metadata": {
    "execution": {
     "iopub.execute_input": "2021-12-29T15:48:17.783241Z",
     "iopub.status.busy": "2021-12-29T15:48:17.782557Z",
     "iopub.status.idle": "2021-12-29T15:48:17.788986Z",
     "shell.execute_reply": "2021-12-29T15:48:17.789542Z",
     "shell.execute_reply.started": "2021-12-28T14:14:19.392638Z"
    },
    "papermill": {
     "duration": 0.037467,
     "end_time": "2021-12-29T15:48:17.789745",
     "exception": false,
     "start_time": "2021-12-29T15:48:17.752278",
     "status": "completed"
    },
    "tags": []
   },
   "outputs": [
    {
     "data": {
      "application/javascript": [
       "parent.postMessage({\"jupyterEvent\": \"custom.exercise_interaction\", \"data\": {\"interactionType\": 2, \"questionType\": 2, \"questionId\": \"3_YearDistrib\", \"learnToolsVersion\": \"0.3.4\", \"valueTowardsCompletion\": 0.0, \"failureMessage\": \"\", \"exceptionClass\": \"\", \"trace\": \"\", \"outcomeType\": 4}}, \"*\")"
      ],
      "text/plain": [
       "<IPython.core.display.Javascript object>"
      ]
     },
     "metadata": {},
     "output_type": "display_data"
    },
    {
     "data": {
      "text/markdown": [
       "<span style=\"color:#3366cc\">Hint:</span> Start your query with `SELECT EXTRACT(YEAR FROM trip_start_timestamp) AS year, COUNT(1) AS num_trips`."
      ],
      "text/plain": [
       "Hint: Start your query with `SELECT EXTRACT(YEAR FROM trip_start_timestamp) AS year, COUNT(1) AS num_trips`."
      ]
     },
     "metadata": {},
     "output_type": "display_data"
    },
    {
     "data": {
      "application/javascript": [
       "parent.postMessage({\"jupyterEvent\": \"custom.exercise_interaction\", \"data\": {\"interactionType\": 3, \"questionType\": 2, \"questionId\": \"3_YearDistrib\", \"learnToolsVersion\": \"0.3.4\", \"valueTowardsCompletion\": 0.0, \"failureMessage\": \"\", \"exceptionClass\": \"\", \"trace\": \"\", \"outcomeType\": 4}}, \"*\")"
      ],
      "text/plain": [
       "<IPython.core.display.Javascript object>"
      ]
     },
     "metadata": {},
     "output_type": "display_data"
    },
    {
     "data": {
      "text/markdown": [
       "<span style=\"color:#33cc99\">Solution:</span> \n",
       "```python\n",
       "\n",
       "rides_per_year_query = \"\"\"\n",
       "                       SELECT EXTRACT(YEAR FROM trip_start_timestamp) AS year, \n",
       "                              COUNT(1) AS num_trips\n",
       "                       FROM `bigquery-public-data.chicago_taxi_trips.taxi_trips`\n",
       "                       GROUP BY year\n",
       "                       ORDER BY year\n",
       "                       \"\"\"\n",
       "\n",
       "# Set up the query (cancel the query if it would use too much of \n",
       "# your quota)\n",
       "safe_config = bigquery.QueryJobConfig(maximum_bytes_billed=10**10)\n",
       "rides_per_year_query_job = client.query(rides_per_year_query, job_config=safe_config)\n",
       "\n",
       "# API request - run the query, and return a pandas DataFrame\n",
       "rides_per_year_result = rides_per_year_query_job.to_dataframe()\n",
       "\n",
       "```"
      ],
      "text/plain": [
       "Solution: \n",
       "```python\n",
       "\n",
       "rides_per_year_query = \"\"\"\n",
       "                       SELECT EXTRACT(YEAR FROM trip_start_timestamp) AS year, \n",
       "                              COUNT(1) AS num_trips\n",
       "                       FROM `bigquery-public-data.chicago_taxi_trips.taxi_trips`\n",
       "                       GROUP BY year\n",
       "                       ORDER BY year\n",
       "                       \"\"\"\n",
       "\n",
       "# Set up the query (cancel the query if it would use too much of \n",
       "# your quota)\n",
       "safe_config = bigquery.QueryJobConfig(maximum_bytes_billed=10**10)\n",
       "rides_per_year_query_job = client.query(rides_per_year_query, job_config=safe_config)\n",
       "\n",
       "# API request - run the query, and return a pandas DataFrame\n",
       "rides_per_year_result = rides_per_year_query_job.to_dataframe()\n",
       "\n",
       "```"
      ]
     },
     "metadata": {},
     "output_type": "display_data"
    }
   ],
   "source": [
    "q_3.hint()\n",
    "q_3.solution()"
   ]
  },
  {
   "cell_type": "markdown",
   "id": "37f50a15",
   "metadata": {
    "papermill": {
     "duration": 0.02728,
     "end_time": "2021-12-29T15:48:17.846099",
     "exception": false,
     "start_time": "2021-12-29T15:48:17.818819",
     "status": "completed"
    },
    "tags": []
   },
   "source": [
    "### 4) Dive slightly deeper\n",
    "\n",
    "You'd like to take a closer look at rides from 2017.  Copy the query you used above in `rides_per_year_query` into the cell below for `rides_per_month_query`.  Then modify it in two ways:\n",
    "1. Use a **WHERE** clause to limit the query to data from 2017.\n",
    "2. Modify the query to extract the month rather than the year."
   ]
  },
  {
   "cell_type": "code",
   "execution_count": 10,
   "id": "519653ce",
   "metadata": {
    "execution": {
     "iopub.execute_input": "2021-12-29T15:48:17.909835Z",
     "iopub.status.busy": "2021-12-29T15:48:17.909183Z",
     "iopub.status.idle": "2021-12-29T15:48:19.047659Z",
     "shell.execute_reply": "2021-12-29T15:48:19.048270Z",
     "shell.execute_reply.started": "2021-12-29T15:45:56.175027Z"
    },
    "papermill": {
     "duration": 1.17461,
     "end_time": "2021-12-29T15:48:19.048478",
     "exception": false,
     "start_time": "2021-12-29T15:48:17.873868",
     "status": "completed"
    },
    "tags": []
   },
   "outputs": [
    {
     "name": "stderr",
     "output_type": "stream",
     "text": [
      "/opt/conda/lib/python3.7/site-packages/google/cloud/bigquery/client.py:440: UserWarning: Cannot create BigQuery Storage client, the dependency google-cloud-bigquery-storage is not installed.\n",
      "  \"Cannot create BigQuery Storage client, the dependency \"\n"
     ]
    },
    {
     "name": "stdout",
     "output_type": "stream",
     "text": [
      "    month  num_trips\n",
      "0       1    1972071\n",
      "1       2    1909802\n",
      "2       3    2362105\n",
      "3       4    2194702\n",
      "4       5    2323386\n",
      "5       6    2324472\n",
      "6       7    2054299\n",
      "7       8    2079861\n",
      "8       9    1950631\n",
      "9      10    2141197\n",
      "10     11    1907997\n",
      "11     12    1767480\n"
     ]
    },
    {
     "data": {
      "application/javascript": [
       "parent.postMessage({\"jupyterEvent\": \"custom.exercise_interaction\", \"data\": {\"outcomeType\": 1, \"valueTowardsCompletion\": 0.16666666666666666, \"interactionType\": 1, \"questionType\": 2, \"questionId\": \"4_MonthDistrib\", \"learnToolsVersion\": \"0.3.4\", \"failureMessage\": \"\", \"exceptionClass\": \"\", \"trace\": \"\"}}, \"*\")"
      ],
      "text/plain": [
       "<IPython.core.display.Javascript object>"
      ]
     },
     "metadata": {},
     "output_type": "display_data"
    },
    {
     "data": {
      "text/markdown": [
       "<span style=\"color:#33cc33\">Correct</span>"
      ],
      "text/plain": [
       "Correct"
      ]
     },
     "metadata": {},
     "output_type": "display_data"
    }
   ],
   "source": [
    "# Your code goes here\n",
    "rides_per_month_query = \"\"\"\n",
    "                        SELECT EXTRACT(MONTH FROM trip_start_timestamp) AS month, \n",
    "                               COUNT(1) AS num_trips\n",
    "                        FROM `bigquery-public-data.chicago_taxi_trips.taxi_trips`\n",
    "                        WHERE EXTRACT(YEAR FROM trip_start_timestamp) = 2017\n",
    "                        GROUP BY month\n",
    "                        ORDER BY month\n",
    "                        \"\"\"\n",
    "\n",
    "# Set up the query\n",
    "safe_config = bigquery.QueryJobConfig(maximum_bytes_billed=10**10)\n",
    "rides_per_month_query_job = client.query(rides_per_month_query, job_config=safe_config) # Your code goes here\n",
    "\n",
    "# API request - run the query, and return a pandas DataFrame\n",
    "rides_per_month_result = rides_per_month_query_job.to_dataframe() # Your code goes here\n",
    "\n",
    "# View results\n",
    "print(rides_per_month_result)\n",
    "\n",
    "# Check your answer\n",
    "q_4.check()"
   ]
  },
  {
   "cell_type": "markdown",
   "id": "60d02a6a",
   "metadata": {
    "papermill": {
     "duration": 0.029659,
     "end_time": "2021-12-29T15:48:19.108633",
     "exception": false,
     "start_time": "2021-12-29T15:48:19.078974",
     "status": "completed"
    },
    "tags": []
   },
   "source": [
    "For a hint or the solution, uncomment the appropriate line below."
   ]
  },
  {
   "cell_type": "code",
   "execution_count": 11,
   "id": "e12e3701",
   "metadata": {
    "execution": {
     "iopub.execute_input": "2021-12-29T15:48:19.171934Z",
     "iopub.status.busy": "2021-12-29T15:48:19.171267Z",
     "iopub.status.idle": "2021-12-29T15:48:19.179467Z",
     "shell.execute_reply": "2021-12-29T15:48:19.179986Z",
     "shell.execute_reply.started": "2021-12-29T15:41:23.149103Z"
    },
    "papermill": {
     "duration": 0.04276,
     "end_time": "2021-12-29T15:48:19.180149",
     "exception": false,
     "start_time": "2021-12-29T15:48:19.137389",
     "status": "completed"
    },
    "tags": []
   },
   "outputs": [
    {
     "data": {
      "application/javascript": [
       "parent.postMessage({\"jupyterEvent\": \"custom.exercise_interaction\", \"data\": {\"interactionType\": 2, \"questionType\": 2, \"questionId\": \"4_MonthDistrib\", \"learnToolsVersion\": \"0.3.4\", \"valueTowardsCompletion\": 0.0, \"failureMessage\": \"\", \"exceptionClass\": \"\", \"trace\": \"\", \"outcomeType\": 4}}, \"*\")"
      ],
      "text/plain": [
       "<IPython.core.display.Javascript object>"
      ]
     },
     "metadata": {},
     "output_type": "display_data"
    },
    {
     "data": {
      "text/markdown": [
       "<span style=\"color:#3366cc\">Hint:</span> Start your query with `SELECT EXTRACT(MONTH FROM trip_start_timestamp) AS month, COUNT(1) AS num_trips`."
      ],
      "text/plain": [
       "Hint: Start your query with `SELECT EXTRACT(MONTH FROM trip_start_timestamp) AS month, COUNT(1) AS num_trips`."
      ]
     },
     "metadata": {},
     "output_type": "display_data"
    },
    {
     "data": {
      "application/javascript": [
       "parent.postMessage({\"jupyterEvent\": \"custom.exercise_interaction\", \"data\": {\"interactionType\": 3, \"questionType\": 2, \"questionId\": \"4_MonthDistrib\", \"learnToolsVersion\": \"0.3.4\", \"valueTowardsCompletion\": 0.0, \"failureMessage\": \"\", \"exceptionClass\": \"\", \"trace\": \"\", \"outcomeType\": 4}}, \"*\")"
      ],
      "text/plain": [
       "<IPython.core.display.Javascript object>"
      ]
     },
     "metadata": {},
     "output_type": "display_data"
    },
    {
     "data": {
      "text/markdown": [
       "<span style=\"color:#33cc99\">Solution:</span> \n",
       "```python\n",
       "\n",
       "rides_per_month_query = \"\"\"\n",
       "                        SELECT EXTRACT(MONTH FROM trip_start_timestamp) AS month, \n",
       "                               COUNT(1) AS num_trips\n",
       "                        FROM `bigquery-public-data.chicago_taxi_trips.taxi_trips`\n",
       "                        WHERE EXTRACT(YEAR FROM trip_start_timestamp) = 2017\n",
       "                        GROUP BY month\n",
       "                        ORDER BY month\n",
       "                        \"\"\"\n",
       "\n",
       "# Set up the query (cancel the query if it would use too much of \n",
       "# your quota)\n",
       "safe_config = bigquery.QueryJobConfig(maximum_bytes_billed=10**10)\n",
       "rides_per_month_query_job = client.query(rides_per_month_query, job_config=safe_config)\n",
       "\n",
       "# API request - run the query, and return a pandas DataFrame\n",
       "rides_per_month_result = rides_per_month_query_job.to_dataframe()\n",
       "\n",
       "```"
      ],
      "text/plain": [
       "Solution: \n",
       "```python\n",
       "\n",
       "rides_per_month_query = \"\"\"\n",
       "                        SELECT EXTRACT(MONTH FROM trip_start_timestamp) AS month, \n",
       "                               COUNT(1) AS num_trips\n",
       "                        FROM `bigquery-public-data.chicago_taxi_trips.taxi_trips`\n",
       "                        WHERE EXTRACT(YEAR FROM trip_start_timestamp) = 2017\n",
       "                        GROUP BY month\n",
       "                        ORDER BY month\n",
       "                        \"\"\"\n",
       "\n",
       "# Set up the query (cancel the query if it would use too much of \n",
       "# your quota)\n",
       "safe_config = bigquery.QueryJobConfig(maximum_bytes_billed=10**10)\n",
       "rides_per_month_query_job = client.query(rides_per_month_query, job_config=safe_config)\n",
       "\n",
       "# API request - run the query, and return a pandas DataFrame\n",
       "rides_per_month_result = rides_per_month_query_job.to_dataframe()\n",
       "\n",
       "```"
      ]
     },
     "metadata": {},
     "output_type": "display_data"
    }
   ],
   "source": [
    "q_4.hint()\n",
    "q_4.solution()"
   ]
  },
  {
   "cell_type": "markdown",
   "id": "bb2f392e",
   "metadata": {
    "papermill": {
     "duration": 0.030515,
     "end_time": "2021-12-29T15:48:19.241826",
     "exception": false,
     "start_time": "2021-12-29T15:48:19.211311",
     "status": "completed"
    },
    "tags": []
   },
   "source": [
    "### 5) Write the query\n",
    "\n",
    "It's time to step up the sophistication of your queries.  Write a query that shows, for each hour of the day in the dataset, the corresponding number of trips and average speed.\n",
    "\n",
    "Your results should have three columns:\n",
    "- `hour_of_day` - sort by this column, which holds the result of extracting the hour from `trip_start_timestamp`.\n",
    "- `num_trips` - the count of the total number of trips in each hour of the day (e.g. how many trips were started between 6AM and 7AM, independent of which day it occurred on).\n",
    "- `avg_mph` - the average speed, measured in miles per hour, for trips that started in that hour of the day.  Average speed in miles per hour is calculated as `3600 * SUM(trip_miles) / SUM(trip_seconds)`. (The value 3600 is used to convert from seconds to hours.)\n",
    "\n",
    "Restrict your query to data meeting the following criteria:\n",
    "- a `trip_start_timestamp` between **2017-01-01** and **2017-07-01**\n",
    "- `trip_seconds` > 0 and `trip_miles` > 0\n",
    "\n",
    "You will use a common table expression (CTE) to select just the relevant rides.  Because this dataset is very big, this CTE should select only the columns you'll need to create the final output (though you won't actually create those in the CTE -- instead you'll create those in the later **SELECT** statement below the CTE).\n",
    "\n",
    "This is a much harder query than anything you've written so far.  Good luck!"
   ]
  },
  {
   "cell_type": "code",
   "execution_count": 12,
   "id": "84d2de75",
   "metadata": {
    "execution": {
     "iopub.execute_input": "2021-12-29T15:48:19.307228Z",
     "iopub.status.busy": "2021-12-29T15:48:19.306546Z",
     "iopub.status.idle": "2021-12-29T15:48:20.287855Z",
     "shell.execute_reply": "2021-12-29T15:48:20.288298Z",
     "shell.execute_reply.started": "2021-12-29T15:46:56.232381Z"
    },
    "papermill": {
     "duration": 1.015676,
     "end_time": "2021-12-29T15:48:20.288464",
     "exception": false,
     "start_time": "2021-12-29T15:48:19.272788",
     "status": "completed"
    },
    "tags": []
   },
   "outputs": [
    {
     "name": "stderr",
     "output_type": "stream",
     "text": [
      "/opt/conda/lib/python3.7/site-packages/google/cloud/bigquery/client.py:440: UserWarning: Cannot create BigQuery Storage client, the dependency google-cloud-bigquery-storage is not installed.\n",
      "  \"Cannot create BigQuery Storage client, the dependency \"\n"
     ]
    },
    {
     "name": "stdout",
     "output_type": "stream",
     "text": [
      "    hour_of_day  num_trips    avg_mph\n",
      "0             0     319339  20.230524\n",
      "1             1     266529  18.937621\n",
      "2             2     210147  18.777070\n",
      "3             3     159668  20.158048\n",
      "4             4     122183  26.736014\n",
      "5             5     119312  30.769172\n",
      "6             6     182738  24.588313\n",
      "7             7     358406  17.735967\n",
      "8             8     541775  15.079892\n",
      "9             9     565548  16.543882\n",
      "10           10     525120  18.539614\n",
      "11           11     594603  18.928379\n",
      "12           12     622324  17.838745\n",
      "13           13     630181  17.671089\n",
      "14           14     622465  16.974239\n",
      "15           15     640430  15.688418\n",
      "16           16     701435  14.283888\n",
      "17           17     756627  12.462955\n",
      "18           18     768251  13.646810\n",
      "19           19     701064  16.642882\n",
      "20           20     598614  19.536777\n",
      "21           21     552726  20.433874\n",
      "22           22     501095  19.531374\n",
      "23           23     399587  19.877046\n"
     ]
    },
    {
     "data": {
      "application/javascript": [
       "parent.postMessage({\"jupyterEvent\": \"custom.exercise_interaction\", \"data\": {\"outcomeType\": 1, \"valueTowardsCompletion\": 0.16666666666666666, \"interactionType\": 1, \"questionType\": 2, \"questionId\": \"5_TheLongQuery\", \"learnToolsVersion\": \"0.3.4\", \"failureMessage\": \"\", \"exceptionClass\": \"\", \"trace\": \"\"}}, \"*\")"
      ],
      "text/plain": [
       "<IPython.core.display.Javascript object>"
      ]
     },
     "metadata": {},
     "output_type": "display_data"
    },
    {
     "data": {
      "text/markdown": [
       "<span style=\"color:#33cc33\">Correct</span>"
      ],
      "text/plain": [
       "Correct"
      ]
     },
     "metadata": {},
     "output_type": "display_data"
    }
   ],
   "source": [
    "# Your code goes here\n",
    "speeds_query = \"\"\"\n",
    "               WITH RelevantRides AS\n",
    "               (\n",
    "                   SELECT EXTRACT(HOUR FROM trip_start_timestamp) AS hour_of_day, \n",
    "                          trip_miles, \n",
    "                          trip_seconds\n",
    "                   FROM `bigquery-public-data.chicago_taxi_trips.taxi_trips`\n",
    "                   WHERE trip_start_timestamp > '2017-01-01' AND \n",
    "                         trip_start_timestamp < '2017-07-01' AND \n",
    "                         trip_seconds > 0 AND \n",
    "                         trip_miles > 0\n",
    "               )\n",
    "               SELECT hour_of_day, \n",
    "                      COUNT(1) AS num_trips, \n",
    "                      3600 * SUM(trip_miles) / SUM(trip_seconds) AS avg_mph\n",
    "               FROM RelevantRides\n",
    "               GROUP BY hour_of_day\n",
    "               ORDER BY hour_of_day\n",
    "               \"\"\"\n",
    "\n",
    "# Set up the query\n",
    "safe_config = bigquery.QueryJobConfig(maximum_bytes_billed=10**10)\n",
    "speeds_query_job = client.query(speeds_query, job_config=safe_config) # Your code here\n",
    "\n",
    "# API request - run the query, and return a pandas DataFrame\n",
    "speeds_result = speeds_query_job.to_dataframe()\n",
    " # Your code here\n",
    "\n",
    "# View results\n",
    "print(speeds_result)\n",
    "\n",
    "# Check your answer\n",
    "q_5.check()"
   ]
  },
  {
   "cell_type": "markdown",
   "id": "2be5cd5e",
   "metadata": {
    "papermill": {
     "duration": 0.033013,
     "end_time": "2021-12-29T15:48:20.354818",
     "exception": false,
     "start_time": "2021-12-29T15:48:20.321805",
     "status": "completed"
    },
    "tags": []
   },
   "source": [
    "For the solution, uncomment the appropriate line below."
   ]
  },
  {
   "cell_type": "code",
   "execution_count": 13,
   "id": "1141833a",
   "metadata": {
    "execution": {
     "iopub.execute_input": "2021-12-29T15:48:20.426791Z",
     "iopub.status.busy": "2021-12-29T15:48:20.426166Z",
     "iopub.status.idle": "2021-12-29T15:48:20.432152Z",
     "shell.execute_reply": "2021-12-29T15:48:20.431653Z",
     "shell.execute_reply.started": "2021-12-28T14:29:37.075482Z"
    },
    "papermill": {
     "duration": 0.044371,
     "end_time": "2021-12-29T15:48:20.432286",
     "exception": false,
     "start_time": "2021-12-29T15:48:20.387915",
     "status": "completed"
    },
    "tags": []
   },
   "outputs": [
    {
     "data": {
      "application/javascript": [
       "parent.postMessage({\"jupyterEvent\": \"custom.exercise_interaction\", \"data\": {\"interactionType\": 3, \"questionType\": 2, \"questionId\": \"5_TheLongQuery\", \"learnToolsVersion\": \"0.3.4\", \"valueTowardsCompletion\": 0.0, \"failureMessage\": \"\", \"exceptionClass\": \"\", \"trace\": \"\", \"outcomeType\": 4}}, \"*\")"
      ],
      "text/plain": [
       "<IPython.core.display.Javascript object>"
      ]
     },
     "metadata": {},
     "output_type": "display_data"
    },
    {
     "data": {
      "text/markdown": [
       "<span style=\"color:#33cc99\">Solution:</span> \n",
       "```python\n",
       "\n",
       "speeds_query = \"\"\"\n",
       "               WITH RelevantRides AS\n",
       "               (\n",
       "                   SELECT EXTRACT(HOUR FROM trip_start_timestamp) AS hour_of_day, \n",
       "                          trip_miles, \n",
       "                          trip_seconds\n",
       "                   FROM `bigquery-public-data.chicago_taxi_trips.taxi_trips`\n",
       "                   WHERE trip_start_timestamp > '2017-01-01' AND \n",
       "                         trip_start_timestamp < '2017-07-01' AND \n",
       "                         trip_seconds > 0 AND \n",
       "                         trip_miles > 0\n",
       "               )\n",
       "               SELECT hour_of_day, \n",
       "                      COUNT(1) AS num_trips, \n",
       "                      3600 * SUM(trip_miles) / SUM(trip_seconds) AS avg_mph\n",
       "               FROM RelevantRides\n",
       "               GROUP BY hour_of_day\n",
       "               ORDER BY hour_of_day\n",
       "               \"\"\"\n",
       "\n",
       "# Set up the query (cancel the query if it would use too much of \n",
       "# your quota)\n",
       "safe_config = bigquery.QueryJobConfig(maximum_bytes_billed=10**10)\n",
       "speeds_query_job = client.query(speeds_query, job_config=safe_config)\n",
       "\n",
       "# API request - run the query, and return a pandas DataFrame\n",
       "speeds_result = speeds_query_job.to_dataframe()\n",
       "\n",
       "# View results\n",
       "print(speeds_result)\n",
       "\n",
       "```"
      ],
      "text/plain": [
       "Solution: \n",
       "```python\n",
       "\n",
       "speeds_query = \"\"\"\n",
       "               WITH RelevantRides AS\n",
       "               (\n",
       "                   SELECT EXTRACT(HOUR FROM trip_start_timestamp) AS hour_of_day, \n",
       "                          trip_miles, \n",
       "                          trip_seconds\n",
       "                   FROM `bigquery-public-data.chicago_taxi_trips.taxi_trips`\n",
       "                   WHERE trip_start_timestamp > '2017-01-01' AND \n",
       "                         trip_start_timestamp < '2017-07-01' AND \n",
       "                         trip_seconds > 0 AND \n",
       "                         trip_miles > 0\n",
       "               )\n",
       "               SELECT hour_of_day, \n",
       "                      COUNT(1) AS num_trips, \n",
       "                      3600 * SUM(trip_miles) / SUM(trip_seconds) AS avg_mph\n",
       "               FROM RelevantRides\n",
       "               GROUP BY hour_of_day\n",
       "               ORDER BY hour_of_day\n",
       "               \"\"\"\n",
       "\n",
       "# Set up the query (cancel the query if it would use too much of \n",
       "# your quota)\n",
       "safe_config = bigquery.QueryJobConfig(maximum_bytes_billed=10**10)\n",
       "speeds_query_job = client.query(speeds_query, job_config=safe_config)\n",
       "\n",
       "# API request - run the query, and return a pandas DataFrame\n",
       "speeds_result = speeds_query_job.to_dataframe()\n",
       "\n",
       "# View results\n",
       "print(speeds_result)\n",
       "\n",
       "```"
      ]
     },
     "metadata": {},
     "output_type": "display_data"
    }
   ],
   "source": [
    "q_5.solution()"
   ]
  },
  {
   "cell_type": "markdown",
   "id": "8ad18cfd",
   "metadata": {
    "papermill": {
     "duration": 0.033872,
     "end_time": "2021-12-29T15:48:20.500239",
     "exception": false,
     "start_time": "2021-12-29T15:48:20.466367",
     "status": "completed"
    },
    "tags": []
   },
   "source": [
    "That's a hard query. If you made good progress towards the solution, congratulations!"
   ]
  },
  {
   "cell_type": "markdown",
   "id": "0df47daa",
   "metadata": {
    "papermill": {
     "duration": 0.033688,
     "end_time": "2021-12-29T15:48:20.568166",
     "exception": false,
     "start_time": "2021-12-29T15:48:20.534478",
     "status": "completed"
    },
    "tags": []
   },
   "source": [
    "# Keep going\n",
    "\n",
    "You can write very complex queries now with a single data source. But nothing expands the horizons of SQL as much as the ability to combine or **JOIN** tables.\n",
    "\n",
    "**[Click here](https://www.kaggle.com/dansbecker/joining-data)** to start the last lesson in the Intro to SQL micro-course."
   ]
  },
  {
   "cell_type": "markdown",
   "id": "ba2c896f",
   "metadata": {
    "papermill": {
     "duration": 0.03359,
     "end_time": "2021-12-29T15:48:20.635742",
     "exception": false,
     "start_time": "2021-12-29T15:48:20.602152",
     "status": "completed"
    },
    "tags": []
   },
   "source": [
    "---\n",
    "\n",
    "\n",
    "\n",
    "\n",
    "*Have questions or comments? Visit the [course discussion forum](https://www.kaggle.com/learn/intro-to-sql/discussion) to chat with other learners.*"
   ]
  }
 ],
 "metadata": {
  "kernelspec": {
   "display_name": "Python 3",
   "language": "python",
   "name": "python3"
  },
  "language_info": {
   "codemirror_mode": {
    "name": "ipython",
    "version": 3
   },
   "file_extension": ".py",
   "mimetype": "text/x-python",
   "name": "python",
   "nbconvert_exporter": "python",
   "pygments_lexer": "ipython3",
   "version": "3.7.12"
  },
  "papermill": {
   "default_parameters": {},
   "duration": 19.385679,
   "end_time": "2021-12-29T15:48:21.279422",
   "environment_variables": {},
   "exception": null,
   "input_path": "__notebook__.ipynb",
   "output_path": "__notebook__.ipynb",
   "parameters": {},
   "start_time": "2021-12-29T15:48:01.893743",
   "version": "2.3.3"
  }
 },
 "nbformat": 4,
 "nbformat_minor": 5
}
